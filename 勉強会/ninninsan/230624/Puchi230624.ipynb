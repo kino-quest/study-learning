{
 "cells": [
  {
   "cell_type": "code",
   "execution_count": null,
   "metadata": {},
   "outputs": [],
   "source": [
    "import pandas as pd\n",
    "import numpy as np\n",
    "import matplotlib.pyplot as plt\n",
    "import matplotlib as mpl\n",
    "import japanize_matplotlib\n",
    "%matplotlib inline\n",
    "from pprint import pprint\n",
    "import warnings\n",
    "warnings.simplefilter('ignore')"
   ]
  },
  {
   "attachments": {},
   "cell_type": "markdown",
   "metadata": {},
   "source": [
    "# 「プチ」勉強会 20230624\n",
    "* 今度こそPandas。先週もPandasのMultiIndexをモチーフにしたけど主題は「スライス」と「インデックス参照」と「リスト内包表記」だったので。\n",
    "* 今回も、自分で問題作って自分で解いてみる。"
   ]
  },
  {
   "attachments": {},
   "cell_type": "markdown",
   "metadata": {},
   "source": [
    "## 今回取り組んでみたこと\n",
    "\n",
    "1. SSDSE-E-2023.xlsxを題材にしているが、これは都道府県のいろいろな数値をカテゴリー毎に並べたものなのでほとんど2次元。<br>\n",
    "   多次元化しようにも中身が数値だから、このままではgroupbyを使う余地が乏しい。<br>\n",
    "   都道府県をエリアで纏める試みもあるが、それだけではできることが限られている。各々単体でしか見ないからPandasの使いどころがない。\n",
    "\n",
    "2. そこで、今回は、エリア分けに加えて「順位、ランキング」の概念を入れた。<br>\n",
    "   同様のことがビニングでも可能だが、つまりは、数値を離散化することで多次元利用を可能にしたということ。\n",
    "\n",
    "3. そして内容は適当だが、以下の問題を設定してみた。<br>\n",
    "   Pandasでは、とにかくgroupbyをぐるぐる回してgroupbyに慣れ親しむことが大事だ。<br>\n",
    "   Excelでもピボットテーブルぐるぐるが分析の基本。指が勝手に動くくらい回し続ける。どこに列名を置いたらどんな表になるか書きながらイメージできるくらい回すのだ。　　　　　　　　　　　　　　　　　　　　　　　　　　　　　　　　　　　　　　　　　\n",
    "```\n",
    "     (1) 関東の平均順位が最も低い項目名と平均順位\n",
    "     (2) 1位の項目がある都道府県とその項目名の一覧\n",
    "     (3) 全国ベースの平均順位がエリアで一番高い都道府県とその平均順位\n",
    "     (4) エリア順位が2位以下でも全国順位が5位以上の都道府県と項目名の一覧\n",
    "     (5) 全項目での都道府県別全ランキング表（1位から47位まで）\n",
    "```"
   ]
  },
  {
   "cell_type": "code",
   "execution_count": null,
   "metadata": {},
   "outputs": [],
   "source": []
  },
  {
   "attachments": {},
   "cell_type": "markdown",
   "metadata": {},
   "source": [
    "## 「最初はグー」で、まずは普通に展開。<br>\n",
    "データの取得年度は時系列じゃないので削除。あと、「全国」の行は比較に使いにくいので削除。その他は全部使う。"
   ]
  },
  {
   "cell_type": "code",
   "execution_count": null,
   "metadata": {},
   "outputs": [],
   "source": [
    "\n",
    "df = pd.read_excel('SSDSE-E-2023.xlsx', header=[0, 2], index_col=[0,1])[1:]\n",
    "df.index.names=['地域コード','都道府県']\n",
    "df.columns.names=['項目コード','項目名']\n",
    "df.head()"
   ]
  },
  {
   "attachments": {},
   "cell_type": "markdown",
   "metadata": {},
   "source": [
    "\n",
    "最初に結論的なところを。\n",
    "実はいろいろ試行錯誤してここに行き着いた。そのココロは以下の通り。\n",
    "```\n",
    "    * groupbyを多用するので、MultiIndexのままではやりにくい。全部解いて各列のnameをカラムに縦に長ーい姿にする。\n",
    "    * 同じ形から加工した方が圧倒的に扱いやすい。元の表の見てくれは関係がない。「加工するとこうなる」というイメージが大事。\n",
    "```"
   ]
  },
  {
   "cell_type": "code",
   "execution_count": null,
   "metadata": {},
   "outputs": [],
   "source": [
    "df01 = df.stack([0, 1]).reset_index().rename(columns={0:'Data'})\n",
    "df01\n"
   ]
  },
  {
   "attachments": {},
   "cell_type": "markdown",
   "metadata": {},
   "source": [
    "まずは、エリアを追加。これは先週もやったsliceの応用。<br>\n",
    "この形のまま列を追加していく。"
   ]
  },
  {
   "cell_type": "code",
   "execution_count": null,
   "metadata": {},
   "outputs": [],
   "source": [
    "df01['エリア'] = ''\n",
    "df01 = df01.set_index('地域コード')\n",
    "\n",
    "area_text = \"\"\"\n",
    "R01000-R07000 1 北海道・東北\n",
    "R08000-R14000 2 関東\n",
    "R15000-R24000 3 中部・北陸・東海\n",
    "R25000-R30000 4 近畿\n",
    "R31000-R39000 5 中国・四国\n",
    "R40000-R47000 6 九州・沖縄\n",
    "\"\"\"\n",
    "area_list = area_text.split('\\n')[1:-1]\n",
    "START = slice(1, 3, None)\n",
    "STOP = slice(8, 10, None)\n",
    "AREA = slice(14, None, None)\n",
    "\n",
    "for i in area_list:\n",
    "    df01.loc['R'+i[START]+'000':'R'+i[STOP]+'000', 'エリア'] = i[AREA]\n",
    "\n",
    "df01 = df01.reset_index()\n",
    "df01"
   ]
  },
  {
   "attachments": {},
   "cell_type": "markdown",
   "metadata": {},
   "source": [
    "今回は順位（ランキング）の概念を入れる。これでgloupbyが使える。"
   ]
  },
  {
   "cell_type": "code",
   "execution_count": null,
   "metadata": {},
   "outputs": [],
   "source": [
    "df01['全国順位'] = ''\n",
    "for item in set(df01['項目名'].values):\n",
    "    rank = df01[df01['項目名'] == item]['Data'].rank(ascending=False, method='min')\n",
    "    df01.loc[rank.index, '全国順位'] = rank.values\n",
    "\n",
    "df01"
   ]
  },
  {
   "attachments": {},
   "cell_type": "markdown",
   "metadata": {},
   "source": [
    "ちなみに、rankメソッドは、以下ように展開した状態で使えば直感的で分かりやすいことは事実。<br>\n",
    "改めて解いて畳んで名前を付ければ同じ形になる。<br>\n",
    "引数は、昇順降順指定の他、ランクの付け方を指定できる。\n",
    "```\n",
    "method='min'\n",
    "```\n",
    "というのは、同率3位が2人いたら、2人とも3位で4位は空位というよくあるやつ。minに寄せるという意味かな。"
   ]
  },
  {
   "cell_type": "code",
   "execution_count": null,
   "metadata": {},
   "outputs": [],
   "source": [
    "df_ = df\n",
    "df_ = df_.rank(ascending=False, method='min').head()\n",
    "df_"
   ]
  },
  {
   "cell_type": "code",
   "execution_count": null,
   "metadata": {},
   "outputs": [],
   "source": [
    "df_.stack([0,1]).reset_index().rename(columns={0:'全国順位'})"
   ]
  },
  {
   "attachments": {},
   "cell_type": "markdown",
   "metadata": {},
   "source": [
    "もうひとつ順位（ランキング）を入れる。"
   ]
  },
  {
   "cell_type": "code",
   "execution_count": null,
   "metadata": {},
   "outputs": [],
   "source": [
    "df01['エリア順位'] = ''\n",
    "for area in set(df01['エリア'].values):\n",
    "    for item in set(df01['項目名'].values):\n",
    "        area_rank = df01[(df01['エリア'] == area) & (df01['項目名'] == item)]['全国順位'].rank(method='min')\n",
    "        df01.loc[area_rank.index, 'エリア順位'] = area_rank.values\n",
    "\n",
    "df01"
   ]
  },
  {
   "attachments": {},
   "cell_type": "markdown",
   "metadata": {},
   "source": [
    "これで準備完了。\n",
    "```\n",
    "ちなみに、最初はrankメソッドを使わずに自分で関数を作った。\n",
    "rankメソッド知らなかったわけじゃないが、メソッドなんて知らなくてもやる練習。\n",
    "```"
   ]
  },
  {
   "attachments": {},
   "cell_type": "markdown",
   "metadata": {},
   "source": [
    "先に地域（エリア）列を作り。"
   ]
  },
  {
   "cell_type": "code",
   "execution_count": null,
   "metadata": {},
   "outputs": [],
   "source": [
    "df_ = df\n",
    "df_[('A0000', '地域')] = ''\n",
    "area_text = \"\"\"\n",
    "R01000-R07000 1_北海道東北\n",
    "R08000-R14000 2_関東\n",
    "R15000-R24000 3_中部・北陸・東海\n",
    "R25000-R30000 4_近畿\n",
    "R31000-R39000 5_中国・四国\n",
    "R40000-R47000 6_九州・沖縄\n",
    "\"\"\"\n",
    "area_list = area_text.split('\\n')[1:]\n",
    "START = slice(1, 3, None)\n",
    "STOP = slice(8, 10, None)\n",
    "AREA = slice(14, None, None)\n",
    "\n",
    "for i in area_list:\n",
    "    df_.loc['R'+i[START]+'000':'R'+i[STOP]+'000', 'A0000'] = i[AREA]\n",
    "\n",
    "new_columns = [df_.columns[-1]] + list(df_.columns[:-1])\n",
    "df_ = df_.reindex(columns=new_columns)"
   ]
  },
  {
   "attachments": {},
   "cell_type": "markdown",
   "metadata": {},
   "source": [
    "こんな風に関数化した。これをfor文でrankを回してconcatすれば出来上がる寸法だ。<br>\n",
    "```\n",
    "関数の中身。カラム毎に逆順ソートしてrankで指定した順位の都道府県をprefに格納、続いてその都道府県が所属する地域をareaに格納している。\n",
    "そしてpref_listに項目コード、項目名、順位、地域、地域コード、都道府県の順（どんな順番でもいいが・・・）に格納してデータフレームで返している。\n",
    "```"
   ]
  },
  {
   "cell_type": "code",
   "execution_count": null,
   "metadata": {},
   "outputs": [],
   "source": [
    "def pref_rank(rank, data=df_):\n",
    "    pref_list = []\n",
    "    for col in data.columns[1:]:\n",
    "        pref = data[col].sort_values(ascending=False).index[rank-1]\n",
    "        area = data.at[pref ,('A0000','地域')]\n",
    "        pref_list.append((col[0], col[1], rank, area, pref[0], pref[1]))\n",
    "    return pd.DataFrame(pref_list, columns=['項目コード', '項目名', '順位', '地域', '地域コード', '都道府県'])\n",
    "\n",
    "pref_rank(1)"
   ]
  },
  {
   "attachments": {},
   "cell_type": "markdown",
   "metadata": {},
   "source": [
    "ちなみに、細かい話だが、関数の5行目,\n",
    "```\n",
    "area = data.at[pref ,('A0000','地域')]\n",
    "```\n",
    "に、at が使われているのが分かるだろうか・・・・。最初は普通にlocでlevel=0(外側)の参照で書いていたらこんなことに・・・。"
   ]
  },
  {
   "cell_type": "code",
   "execution_count": null,
   "metadata": {},
   "outputs": [],
   "source": [
    "def pref_rank(rank, data=df_):\n",
    "    pref_list = []\n",
    "    for col in data.columns[1:]:\n",
    "        pref = data[col].sort_values(ascending=False).index[rank-1]\n",
    "        area = data.loc[pref[0] ,'A0000']\n",
    "        pref_list.append((col[0], col[1], rank, area, pref[0], pref[1]))\n",
    "    return pd.DataFrame(pref_list, columns=['項目コード', '項目名', '順位', '地域', '地域コード', '都道府県'])\n",
    "\n",
    "pref_rank(1)"
   ]
  },
  {
   "attachments": {},
   "cell_type": "markdown",
   "metadata": {},
   "source": [
    "実はこうやって直すことが出来るのだが、\n",
    "```\n",
    "area = data.loc[pref[0] ,'A0000'].values[0][0]\n",
    "```\n",
    "なんでこんなことになるかというと、locは要素が一つでもDataFrameを返すのだ。だから、項目名やらなんやらインデックスの要素が文字列に・・・。<br>\n",
    "at なんていつ使うの？と思っていたが、「なるほどこういう場合はatなんだ」と分かった。"
   ]
  },
  {
   "cell_type": "code",
   "execution_count": null,
   "metadata": {},
   "outputs": [],
   "source": [
    "def pref_rank(rank, data=df_):\n",
    "    pref_list = []\n",
    "    for col in data.columns[1:]:\n",
    "        pref = data[col].sort_values(ascending=False).index[rank-1]\n",
    "        area = data.loc[pref[0] ,'A0000'].values[0][0]\n",
    "        pref_list.append((col[0], col[1], rank, area, pref[0], pref[1]))\n",
    "    return pd.DataFrame(pref_list, columns=['項目コード', '項目名', '順位', '地域', '地域コード', '都道府県'])\n",
    "\n",
    "pref_rank(1)"
   ]
  },
  {
   "attachments": {},
   "cell_type": "markdown",
   "metadata": {},
   "source": [
    "### 寄り道した・・・。いよいよ問題を解く。(というほどのものでもないが)"
   ]
  },
  {
   "attachments": {},
   "cell_type": "markdown",
   "metadata": {},
   "source": [
    "```\n",
    "     (1) 関東の平均順位が最も低い項目名と平均順位\n",
    "     (2) 1位の項目がある都道府県とその項目名の一覧\n",
    "     (3) 全国ベースの平均順位がエリアで一番高い都道府県とその平均順位\n",
    "     (4) エリア順位が2位以下でも全国順位が5位以上の都道府県と項目名の一覧\n",
    "     (5) 全項目での都道府県別全ランキング表（1位から47位まで）\n",
    "     (6) 全国1位を除いたベースでの都道府県別全ランキング表\n",
    "```"
   ]
  },
  {
   "cell_type": "code",
   "execution_count": null,
   "metadata": {},
   "outputs": [],
   "source": [
    "#1\n",
    "df01[df01['エリア'] == '2 関東'].groupby(['項目名'])[['全国順位']].mean().sort_values('全国順位', ascending=False).head(1)"
   ]
  },
  {
   "attachments": {},
   "cell_type": "markdown",
   "metadata": {},
   "source": [
    "なんか、簡単過ぎるような気もするが、それは準備ができているから。groupbyのこの形に持ち込めば大体のものは抽出できる。"
   ]
  },
  {
   "cell_type": "code",
   "execution_count": null,
   "metadata": {},
   "outputs": [],
   "source": [
    "#2\n",
    "df01[df01['全国順位'] == 1].groupby('都道府県')[['項目名']].sum()"
   ]
  },
  {
   "attachments": {},
   "cell_type": "markdown",
   "metadata": {},
   "source": [
    "んー。なんというかイマイチ。文字が繋がってしまっているし、全部表示できていないし・・・ということで、項目コードも入れてみる。"
   ]
  },
  {
   "cell_type": "code",
   "execution_count": null,
   "metadata": {},
   "outputs": [],
   "source": [
    "df_ = df01[df01['全国順位'] == 1].groupby(['都道府県', '項目コード'])[['項目名']].sum()\n",
    "df_"
   ]
  },
  {
   "attachments": {},
   "cell_type": "markdown",
   "metadata": {},
   "source": [
    "今度は、項目毎になったけど、もうちょっと全体がちゃんと一覧できるようにしたい。問題にも「一覧」って書いてある。\n",
    "```\n",
    "ということで、ここであれだな・・・・\n",
    "```"
   ]
  },
  {
   "cell_type": "code",
   "execution_count": null,
   "metadata": {},
   "outputs": [],
   "source": [
    "from collections import defaultdict\n",
    "dic = defaultdict(list)\n",
    "\n",
    "for i, pref in enumerate(df_.index):\n",
    "    dic[pref[0]].append(df_['項目名'][i])\n",
    "\n",
    "pprint(dic, compact=True)"
   ]
  },
  {
   "attachments": {},
   "cell_type": "markdown",
   "metadata": {},
   "source": [
    "```\n",
    "いいね、いいね! defaluldictとpprintのコラボって感じだ。\n",
    "東京がなんでも1位というのはしかたがないとして、他の県が1位のやつがなかなか味わい深い・・・。\n",
    "```"
   ]
  },
  {
   "attachments": {},
   "cell_type": "markdown",
   "metadata": {},
   "source": [
    "ちなみに、defaluldictは、引数に関数を取れる。ここではlistを引数にしているのでリストに要素を追加できる仕様となっている。"
   ]
  },
  {
   "attachments": {},
   "cell_type": "markdown",
   "metadata": {},
   "source": [
    "さて、お次は・・・。問題を再掲。\n",
    "```\n",
    "     (3) 全国ベースの平均順位がエリアで一番高い都道府県とその平均順位\n",
    "     (4) エリア順位が2位以下でも全国順位が5位以上の都道府県と項目名の一覧\n",
    "     (5) 全項目での都道府県別全ランキング表（1位から47位まで）\n",
    "     (6) 全国1位を除いたベースでの都道府県別全ランキング表\n",
    "```"
   ]
  },
  {
   "cell_type": "code",
   "execution_count": null,
   "metadata": {},
   "outputs": [],
   "source": [
    "#3\n",
    "df_ = pd.DataFrame()\n",
    "for area in set(df01['エリア']):\n",
    "    df_temp = df01[df01['エリア'] == area].groupby(['エリア','都道府県'])[['全国順位']].mean().sort_values('全国順位').head(1)\n",
    "    df_ = pd.concat([df_, df_temp])\n",
    "df_.sort_index()"
   ]
  },
  {
   "attachments": {},
   "cell_type": "markdown",
   "metadata": {},
   "source": [
    "これは、全国順位をエリア内で比較しているというところがちょっと捻っている。"
   ]
  },
  {
   "cell_type": "code",
   "execution_count": null,
   "metadata": {},
   "outputs": [],
   "source": [
    "#4\n",
    "df_ = df01[(df01['エリア順位'] > 1) & (df01['全国順位'] <= 5)].groupby(['都道府県','項目コード'])[['項目名']].sum()\n",
    "\n",
    "from collections import defaultdict\n",
    "dic = defaultdict(list)\n",
    "\n",
    "for i, pref in enumerate(df_.index):\n",
    "    dic[pref[0]].append(df_['項目名'][i])\n",
    "\n",
    "pprint(dic, compact=True)"
   ]
  },
  {
   "attachments": {},
   "cell_type": "markdown",
   "metadata": {},
   "source": [
    "せっかくだから、ここもdefalutdict + pprintで。"
   ]
  },
  {
   "attachments": {},
   "cell_type": "markdown",
   "metadata": {},
   "source": [
    "あとひとつ。\n",
    "```\n",
    "     (5) 全項目での都道府県別全ランキング表（1位から47位まで）\n",
    "```"
   ]
  },
  {
   "attachments": {},
   "cell_type": "markdown",
   "metadata": {},
   "source": [
    "まあなんだ。これをまた変なグラフにしたりして遊ぶと楽しみながら学習できるかもね。<br>\n",
    "ランキングで文字の大きさを変えたり、色変えたり・・・"
   ]
  },
  {
   "cell_type": "code",
   "execution_count": null,
   "metadata": {},
   "outputs": [],
   "source": [
    "#5\n",
    "df01.groupby(['全国順位', '項目コード', '項目名'])[['都道府県']].sum().unstack([1, 2])\n"
   ]
  },
  {
   "cell_type": "code",
   "execution_count": null,
   "metadata": {},
   "outputs": [],
   "source": []
  },
  {
   "cell_type": "code",
   "execution_count": null,
   "metadata": {},
   "outputs": [],
   "source": []
  },
  {
   "cell_type": "code",
   "execution_count": null,
   "metadata": {},
   "outputs": [],
   "source": []
  },
  {
   "cell_type": "code",
   "execution_count": null,
   "metadata": {},
   "outputs": [],
   "source": []
  },
  {
   "attachments": {},
   "cell_type": "markdown",
   "metadata": {},
   "source": [
    "## 以上！"
   ]
  }
 ],
 "metadata": {
  "kernelspec": {
   "display_name": "Python 3",
   "language": "python",
   "name": "python3"
  },
  "language_info": {
   "codemirror_mode": {
    "name": "ipython",
    "version": 3
   },
   "file_extension": ".py",
   "mimetype": "text/x-python",
   "name": "python",
   "nbconvert_exporter": "python",
   "pygments_lexer": "ipython3",
   "version": "3.11.2"
  },
  "orig_nbformat": 4
 },
 "nbformat": 4,
 "nbformat_minor": 2
}
