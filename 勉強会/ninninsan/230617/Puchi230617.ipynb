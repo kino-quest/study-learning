{
 "cells": [
  {
   "cell_type": "code",
   "execution_count": null,
   "metadata": {},
   "outputs": [],
   "source": [
    "import pandas as pd\n",
    "import numpy as np\n",
    "import matplotlib.pyplot as plt\n",
    "import matplotlib as mpl\n",
    "import japanize_matplotlib\n",
    "%matplotlib inline\n",
    "from pprint import pprint\n",
    "\n",
    "df = pd.read_excel('SSDSE-E-2023.xlsx', header=[0, 2], index_col=[0,1])\n",
    "df.index.names=['地域コード','都道府県']\n",
    "df.columns.names=['項目コード','項目名']\n",
    "df.head()"
   ]
  },
  {
   "attachments": {},
   "cell_type": "markdown",
   "metadata": {},
   "source": [
    "## 「プチ」勉強会 20230617\n",
    "* ペアプロ用に作成した問題から。\n",
    "* PandasのMultiIndexを使っているが、実は今回は「リスト内包表記」と「インデックス参照」と「スライス」がテーマ。\n"
   ]
  },
  {
   "attachments": {},
   "cell_type": "markdown",
   "metadata": {},
   "source": [
    "### 今回取り組んでみたもの\n",
    "\n",
    "1. MultiIndexは少し扱いにくいところがあるのでそこを少し便利にする関数を作成し、改善していくストーリー。<br>\n",
    "   まず、最初にお断りしておかなければならないこと。<br>\n",
    "   それは、Pandasの範囲参照はMultIndexでも、以下のようにlevel0のコードを使ってスライス指定で範囲抽出できるということ。<br>"
   ]
  },
  {
   "cell_type": "code",
   "execution_count": null,
   "metadata": {},
   "outputs": [],
   "source": [
    "df.loc['R10000':'R15000', 'A1101':'A5101']"
   ]
  },
  {
   "attachments": {},
   "cell_type": "markdown",
   "metadata": {},
   "source": [
    "2. 但し、これがインデックスやカラムの参照だと、そのまま文字列のコードではエラーになってしまう。"
   ]
  },
  {
   "cell_type": "code",
   "execution_count": null,
   "metadata": {},
   "outputs": [],
   "source": [
    "df.index['R10000':'R15000']"
   ]
  },
  {
   "attachments": {},
   "cell_type": "markdown",
   "metadata": {},
   "source": [
    "3. 引数がintならOK"
   ]
  },
  {
   "cell_type": "code",
   "execution_count": null,
   "metadata": {},
   "outputs": [],
   "source": [
    "df.index[10:15]"
   ]
  },
  {
   "attachments": {},
   "cell_type": "markdown",
   "metadata": {},
   "source": [
    "4. 今回の課題では、例えばこれを「文字列でもスライス指定できるような関数を作ってみよう」というもの。<br>\n",
    "   ちなみに、カラムの項目コードについていえば、先頭のアルファベットがジャンルを表していて、その下の数字も桁数毎に分類コードになっているので、<br>\n",
    "   「先頭文字列でジャンル毎に抽出する」なんてこともやってみたい。<br>\n",
    "   ほか、地域コードは基本的に一意の都道府県コードなので、'R10000'まで全部打たなくても'R10'だけでも受け付けるようにしたい。"
   ]
  },
  {
   "attachments": {},
   "cell_type": "markdown",
   "metadata": {},
   "source": [
    "5. で、いきなりスライスだと途方に暮れるので、少しずつ機能を追加していく。あとで使うので一応関数にしている。<br>\n",
    "   まずは、単体の地域コードでインデックスをリストで抽出する。<br>\n",
    "   なんでリストに変換しているかは後ほど明らかになる。"
   ]
  },
  {
   "cell_type": "code",
   "execution_count": null,
   "metadata": {},
   "outputs": [],
   "source": [
    "def pref_listβ(*keys, data=df):\n",
    "    prefs = []\n",
    "    for key in keys:\n",
    "        prefs += [i for i in data.index if i[0] == key]\n",
    "    return prefs\n",
    "\n",
    "pprint(pref_listβ('R13000', 'R14000', 'R15000', 'R16000', 'R17000'))"
   ]
  },
  {
   "attachments": {},
   "cell_type": "markdown",
   "metadata": {},
   "source": [
    "6. 「いきなり何？」と思うひとがいるかもしれないが、心配ありません。これから説明します。<br>\n",
    "    複数の引数をとって何回も処理させているからfor文を使っているが、ミソはこの部分。\n",
    "```\n",
    "    prefs = [i for i in data.index if i[0] == key]\n",
    "```"
   ]
  },
  {
   "attachments": {},
   "cell_type": "markdown",
   "metadata": {},
   "source": [
    "7. if文を除けばこう。つまり、インデックスのリストを丸っと抽出しているだけ。\n",
    "```\n",
    "    prefs = [i for i in data.index]\n",
    "```"
   ]
  },
  {
   "cell_type": "code",
   "execution_count": null,
   "metadata": {},
   "outputs": [],
   "source": [
    "data = df\n",
    "prefs = [i for i in data.index]\n",
    "prefs"
   ]
  },
  {
   "attachments": {},
   "cell_type": "markdown",
   "metadata": {},
   "source": [
    "8. そこにこのif文を付けている。<br>\n",
    "つまり、i[0]はMultiIndexの要素のtuple、例えば（'R13000', '東京都'）だったらi[0]は'R13000'を参照している。<br>\n",
    "それがkeyと一致する条件ということ。\n",
    "回りくどいようだが、'R13000'を（'R13000', '東京都'）に変換しているということだ。<br>\n",
    "それを引数分、回して表示している。「なーんだ」という話。\n",
    "```\n",
    "    if i[0] == key\n",
    "```"
   ]
  },
  {
   "cell_type": "code",
   "execution_count": null,
   "metadata": {},
   "outputs": [],
   "source": [
    "key = ('R13000', '東京都')\n",
    "key[0]\n"
   ]
  },
  {
   "cell_type": "code",
   "execution_count": null,
   "metadata": {},
   "outputs": [],
   "source": [
    "def pref_listβ(*keys, data=df):\n",
    "    prefs = []\n",
    "    for key in keys:\n",
    "        prefs += [i for i in data.index if i[0] == key]\n",
    "    return prefs\n",
    "\n",
    "pprint(pref_listβ('R13000', 'R14000', 'R15000', 'R16000', 'R17000', 'R18000'))"
   ]
  },
  {
   "attachments": {},
   "cell_type": "markdown",
   "metadata": {},
   "source": [
    "9. ちなみに、for文で回数回すので、prefsは予め空リストを作成しておいて、そこに追加する表記にしている。<br>\n",
    "   あと、引数keysは*keysにして、つまり、「可変長引数」にして、何個でも受け付けられるようにしている。\n",
    "```\n",
    "    prefs +=\n",
    "    *keys\n",
    "```"
   ]
  },
  {
   "attachments": {},
   "cell_type": "markdown",
   "metadata": {},
   "source": [
    "10. それから、そもそもの話、level0の要素からlvel1も含めたタプルを取得する方法は２通り考えられる。<br>\n",
    "    * ひとつは位置を取得して再び参照する直感的なやり方。<br>\n",
    "    * そしてもうひとつは、今回のように全体からlevel0だけ部分一致するものを抽出するやり方。<br>\n",
    "    \n",
    "    どちらも可能だが、実際書いてみて、今回のケースは「リスト内包表記」の分かりやすさの勝ち！と思う。<br>\n",
    "    この後のことも含めればこの方法しかないことも分かるだろう。\n",
    "\n",
    "    次は、項目コードを先頭文字列でジャンル毎に抽出するやつを書く。これだ。"
   ]
  },
  {
   "cell_type": "code",
   "execution_count": null,
   "metadata": {},
   "outputs": [],
   "source": [
    "def item_list(*keys, data=df):\n",
    "    items = []\n",
    "    for key in keys:\n",
    "        items += [i for i in data.columns if i[0][0:len(key)] == key]\n",
    "    return items\n",
    "\n",
    "pprint(item_list('A13', 'E'))"
   ]
  },
  {
   "attachments": {},
   "cell_type": "markdown",
   "metadata": {},
   "source": [
    "11. 「なーんだ、さっきとほとんど同じじゃないか」と思った貴方！そうなんです。違うのは以下の部分だけです。<br>\n",
    "    比べてみてください。参照部分がちょっと複雑になっているのが分かります。<br>\n",
    "    実際に値を入れて確かめてみましょう。\n",
    "```\n",
    "    if i[0] == key\n",
    "    if i[0][0:len(key)] == key\n",
    "```"
   ]
  },
  {
   "attachments": {},
   "cell_type": "markdown",
   "metadata": {},
   "source": [
    "12. 引数の文字の長さをlen(key)で取得して、'R13000'をさらにインデックス参照して長さ分の文字列を取得しているのが分かります。<br>\n",
    "    このようにインデックス参照というのはネストしても構わないんです。"
   ]
  },
  {
   "cell_type": "code",
   "execution_count": null,
   "metadata": {},
   "outputs": [],
   "source": [
    "\n",
    "i = ('R13000','東京都')\n",
    "key1 = 'R13'\n",
    "key2 = 'R130'\n",
    "\n",
    "print(len(key1))\n",
    "print(len(key2))\n",
    "\n",
    "print(i[0][0:len(key1)])\n",
    "print(i[0][0:len(key2)])\n"
   ]
  },
  {
   "attachments": {},
   "cell_type": "markdown",
   "metadata": {},
   "source": [
    "13. でもって再掲。もう分かりますね。"
   ]
  },
  {
   "cell_type": "code",
   "execution_count": null,
   "metadata": {},
   "outputs": [],
   "source": [
    "def item_list(*keys, data=df):\n",
    "    items = []\n",
    "    for key in keys:\n",
    "        items += [i for i in data.columns if i[0][0:len(key)] == key]\n",
    "    return items\n",
    "\n",
    "pprint(item_list('A13', 'E'))"
   ]
  },
  {
   "attachments": {},
   "cell_type": "markdown",
   "metadata": {},
   "source": [
    "14. さて、いよいよスライスしてみましょうか。まずはこれです。"
   ]
  },
  {
   "cell_type": "code",
   "execution_count": null,
   "metadata": {},
   "outputs": [],
   "source": [
    "def pref_sliceβ(start, stop, step=1, data=df):\n",
    "    a, b = data.index.slice_locs(start, stop)\n",
    "    prefs = data.index[a:b:step]\n",
    "    return list(prefs)\n",
    "\n",
    "pprint(pref_sliceβ('R13000', 'R23000'))"
   ]
  },
  {
   "attachments": {},
   "cell_type": "markdown",
   "metadata": {},
   "source": [
    "15. 「うわっ。なんかちょっと違う・・・。それに良くわからないメソッド使ってるし・・・。」と思った貴方！正解です。<br>\n",
    "    実は私もslice_locsなんて知りませんでした。最初はこんな風にget_loc使ってました。昨日、こちらに乗り換えました・・・。\n",
    "```\n",
    "    a = data.index.get_loc(start)\n",
    "    b = data.index.get_loc(stop)\n",
    "```"
   ]
  },
  {
   "attachments": {},
   "cell_type": "markdown",
   "metadata": {},
   "source": [
    "16. ちなみに、このMultiIndexにおけるget_locの挙動・・・面白いんです！"
   ]
  },
  {
   "cell_type": "code",
   "execution_count": null,
   "metadata": {},
   "outputs": [],
   "source": [
    "a = df.index.get_loc('R13000')\n",
    "a"
   ]
  },
  {
   "attachments": {
    "image.png": {
     "image/png": "[encoded data removed]"
    }
   },
   "cell_type": "markdown",
   "metadata": {},
   "source": [
    "17. 「ちょっと意外～！」と思いませんか？スライス？ナニコレです。<br>\n",
    "    そう、get_locの返り値はintだけじゃないんです。sliceもあれば真偽値もある。<br>\n",
    "    興味のあるひとは是非、公式みてみて！\n",
    "\n",
    "![image.png](attachment:image.png)"
   ]
  },
  {
   "attachments": {},
   "cell_type": "markdown",
   "metadata": {},
   "source": [
    "18. それから、sliceだけど、スコープを確認してみると特殊メソッド除きでこんな感じ。<br>\n",
    "    indicesって何？と思ったひとは、これも調べてみてみて！<br>\n",
    "    それにしても「リスト内包表記」って便利！"
   ]
  },
  {
   "cell_type": "code",
   "execution_count": null,
   "metadata": {},
   "outputs": [],
   "source": [
    "[d for d in dir(slice) if not'__' in d]\n"
   ]
  },
  {
   "attachments": {},
   "cell_type": "markdown",
   "metadata": {},
   "source": [
    "19. 取り敢えず、今必要なのはカラムの位置だから、startということが分かる。"
   ]
  },
  {
   "cell_type": "code",
   "execution_count": null,
   "metadata": {},
   "outputs": [],
   "source": [
    "print(a.indices)\n",
    "print(a.start)\n",
    "print(a.step)\n",
    "print(a.stop)"
   ]
  },
  {
   "attachments": {},
   "cell_type": "markdown",
   "metadata": {},
   "source": [
    "20. だから、最初はこんな風に書いていた。もちろん、結果は同じ。"
   ]
  },
  {
   "cell_type": "code",
   "execution_count": null,
   "metadata": {},
   "outputs": [],
   "source": [
    "def pref_sliceβ(start, stop, step=1, data=df):\n",
    "    a = data.index.get_loc(start)\n",
    "    b = data.index.get_loc(stop)\n",
    "    a = a.start\n",
    "    b = b.start\n",
    "    prefs = data.index[a:b:step]\n",
    "    return list(prefs)\n",
    "\n",
    "pprint(pref_sliceβ('R13000', 'R23000'))"
   ]
  },
  {
   "attachments": {
    "image.png": {
     "image/png": "[encoded data removed]"
    }
   },
   "cell_type": "markdown",
   "metadata": {},
   "source": [
    "21. でも、Multiindex.get_locの公式眺めていたら、slice_locsというメソッドがこそっと書かれている<br>\n",
    "    で、こうなった。「slice_locsってどんなだ？」と思ったひとは公式へGO！<br>\n",
    "    ![image.png](attachment:image.png)"
   ]
  },
  {
   "cell_type": "code",
   "execution_count": null,
   "metadata": {},
   "outputs": [],
   "source": [
    "def pref_sliceβ(start, stop, step=1, data=df):\n",
    "    a, b = data.index.slice_locs(start, stop)\n",
    "    prefs = data.index[a:b:step]\n",
    "    return list(prefs)\n",
    "\n",
    "pprint(pref_sliceβ('R13000', 'R23000'))"
   ]
  },
  {
   "attachments": {},
   "cell_type": "markdown",
   "metadata": {},
   "source": [
    "22. 項目コードの方でも同じのを作る。こっちはindexがcolumnsになっている。"
   ]
  },
  {
   "cell_type": "code",
   "execution_count": null,
   "metadata": {},
   "outputs": [],
   "source": [
    "def item_sliceβ(start, stop, step=1, data=df):\n",
    "    a, b = data.columns.slice_locs(start, stop)\n",
    "    items = data.columns[a:b:step]\n",
    "    return list(items)\n",
    "\n",
    "pprint(item_sliceβ('E1101', 'E3501'))"
   ]
  },
  {
   "attachments": {},
   "cell_type": "markdown",
   "metadata": {},
   "source": [
    "23. さて、次は省略形だ。地域コードの方は簡単。短縮しても一意だから既に知っているこのコードでOK。"
   ]
  },
  {
   "cell_type": "code",
   "execution_count": null,
   "metadata": {},
   "outputs": [],
   "source": [
    "def pref_list(*keys, data=df):\n",
    "    prefs = []\n",
    "    for key in keys:\n",
    "        prefs += [i for i in data.index if i[0][0:len(key)] == key]\n",
    "    return prefs\n",
    "\n",
    "pprint(pref_list('R13', 'R14', 'R16', 'R17', 'R18'))\n"
   ]
  },
  {
   "attachments": {},
   "cell_type": "markdown",
   "metadata": {},
   "source": [
    "24. スライスも短縮OKにする。もう簡単だよね。ちょっと変えるだけだ。"
   ]
  },
  {
   "cell_type": "code",
   "execution_count": null,
   "metadata": {},
   "outputs": [],
   "source": [
    "def pref_slice(start, stop, step=1, data=df):\n",
    "\n",
    "    start = [i for i in data.index if i[0][0:len(start)] == start][0][0]\n",
    "    stop = [i for i in data.index if i[0][0:len(stop)] == stop][-1][0]\n",
    "    a, b = data.index.slice_locs(start, stop)\n",
    "    prefs = data.index[a:b:step]\n",
    "    return list(prefs)\n",
    "\n",
    "pprint(pref_slice('R13', 'R20'))"
   ]
  },
  {
   "attachments": {},
   "cell_type": "markdown",
   "metadata": {},
   "source": [
    "25. 項目コードの方も同じ。<br>\n",
    "    但し、上のでも気づいた人がいると思うが、ここのところがちょっと違う。<br>\n",
    "    地域コードは短縮しても一意だから大して意味ないが、項目コードは対象が複数になるので意味を持ってくる。<br>\n",
    "    つまり、リストには複数のカラムが並ぶが、startはそのうち先頭のものを選び、stopは末尾を選んでいる。\n",
    "```\n",
    "    start = [i for i in data.columns if i[0][0:len(start)] == start][0][0]\n",
    "    stop = [i for i in data.columns if i[0][0:len(stop)] == stop][-1][0]\n",
    "```"
   ]
  },
  {
   "cell_type": "code",
   "execution_count": null,
   "metadata": {},
   "outputs": [],
   "source": [
    "start = 'H6'\n",
    "stop = 'J'\n",
    "data = df\n",
    "\n",
    "start = [i for i in data.columns if i[0][0:len(start)] == start]\n",
    "stop = [i for i in data.columns if i[0][0:len(stop)] == stop]\n",
    "\n",
    "print(start)\n",
    "print(stop)\n",
    "\n",
    "print(repr(start[0][0]))\n",
    "print(repr(stop[-1][0]))\n"
   ]
  },
  {
   "cell_type": "code",
   "execution_count": null,
   "metadata": {},
   "outputs": [],
   "source": [
    "def item_slice(start, stop, step=1, data=df):\n",
    "    start = [i for i in data.columns if i[0][0:len(start)] == start][0][0]\n",
    "    stop = [i for i in data.columns if i[0][0:len(stop)] == stop][-1][0]\n",
    "    a, b = data.columns.slice_locs(start, stop)\n",
    "    items = data.columns[a:b:step]\n",
    "    return list(items)\n",
    "\n",
    "pprint(item_slice('H6', 'J'))"
   ]
  },
  {
   "attachments": {},
   "cell_type": "markdown",
   "metadata": {},
   "source": [
    "26. まあ、これでMultiIndexでも任意の範囲抽出が直感的な操作で出来るようになった。<br>\n",
    "    めでたしめでたし！<br>\n",
    "    なお、気が付いた人がいるかもしれないが、途中の関数はβ版になっていて、最終系にはβがついていない。<br>\n",
    "    それから、リストに変換しているのはこのように + で繋ぐ想定があるから。MultiIndexオブジェクトだとエラーになる。"
   ]
  },
  {
   "cell_type": "code",
   "execution_count": null,
   "metadata": {},
   "outputs": [],
   "source": [
    "pl = pref_list\n",
    "ps = pref_slice\n",
    "il = item_list\n",
    "isl = item_slice\n",
    "\n",
    "df.loc[pl('R00')+ps('R10','R15'), isl('I','L3')]"
   ]
  },
  {
   "attachments": {},
   "cell_type": "markdown",
   "metadata": {},
   "source": [
    "## 以上！"
   ]
  },
  {
   "attachments": {},
   "cell_type": "markdown",
   "metadata": {},
   "source": []
  }
 ],
 "metadata": {
  "kernelspec": {
   "display_name": "Python 3",
   "language": "python",
   "name": "python3"
  },
  "language_info": {
   "codemirror_mode": {
    "name": "ipython",
    "version": 3
   },
   "file_extension": ".py",
   "mimetype": "text/x-python",
   "name": "python",
   "nbconvert_exporter": "python",
   "pygments_lexer": "ipython3",
   "version": "3.11.2"
  },
  "orig_nbformat": 4
 },
 "nbformat": 4,
 "nbformat_minor": 2
}
