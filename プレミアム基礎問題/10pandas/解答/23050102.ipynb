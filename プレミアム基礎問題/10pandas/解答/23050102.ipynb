{
 "cells": [
  {
   "attachments": {},
   "cell_type": "markdown",
   "metadata": {},
   "source": [
    "### 模範解答"
   ]
  },
  {
   "cell_type": "code",
   "execution_count": null,
   "metadata": {},
   "outputs": [],
   "source": [
    "import pandas as pd"
   ]
  },
  {
   "cell_type": "code",
   "execution_count": null,
   "metadata": {},
   "outputs": [],
   "source": [
    "df = pd.read_excel('./SSDSE-E-2023.xlsx')\n",
    "df.head()"
   ]
  },
  {
   "attachments": {},
   "cell_type": "markdown",
   "metadata": {},
   "source": [
    "1.”都道府県”列をデータフレームのインデックスとしてデータフレームを読み込み直しましょう。\n",
    "(データフレームの表示)"
   ]
  },
  {
   "cell_type": "code",
   "execution_count": null,
   "metadata": {},
   "outputs": [],
   "source": [
    "df_2=pd.read_excel('./SSDSE-E-2023.xlsx',skiprows=2,index_col='都道府県')\n",
    "df_2.head()"
   ]
  },
  {
   "attachments": {},
   "cell_type": "markdown",
   "metadata": {},
   "source": [
    "\n",
    "2.各カラムの欠損値の合計数を確認しましょう。\n",
    "(データフレームの情報取得)"
   ]
  },
  {
   "cell_type": "code",
   "execution_count": null,
   "metadata": {},
   "outputs": [],
   "source": [
    "missing_values = df_2.isnull().sum()\n",
    "print(missing_values)"
   ]
  },
  {
   "attachments": {},
   "cell_type": "markdown",
   "metadata": {},
   "source": [
    "3.\"事業所数（民営）（医療，福祉）\"　のデータをSiriesメソッドを使って抽出し、df_welfに代入しましょう。\n",
    "(列の選択・抽出)"
   ]
  },
  {
   "cell_type": "code",
   "execution_count": null,
   "metadata": {},
   "outputs": [],
   "source": [
    "df_welf = pd.Series(df_2['事業所数（民営）（医療，福祉）'])\n",
    "df_welf"
   ]
  },
  {
   "attachments": {},
   "cell_type": "markdown",
   "metadata": {},
   "source": [
    "４.'一般病院数','一般診療所数','医師数' を抽出しdf_medicalに代入しましょう。(列の選択・抽出　複数)\n"
   ]
  },
  {
   "cell_type": "code",
   "execution_count": null,
   "metadata": {},
   "outputs": [],
   "source": [
    "df_medical = df_2[['一般病院数','一般診療所数','医師数']]\n",
    "df_medical"
   ]
  },
  {
   "attachments": {},
   "cell_type": "markdown",
   "metadata": {},
   "source": [
    "５.行ラベル名を使って　'山口県'の行を抽出し、df_Aに代入しましょう。（行の選択・抽出）"
   ]
  },
  {
   "cell_type": "code",
   "execution_count": null,
   "metadata": {},
   "outputs": [],
   "source": [
    "df_A = df_2.loc['山口県']\n",
    "df_A"
   ]
  },
  {
   "attachments": {},
   "cell_type": "markdown",
   "metadata": {},
   "source": [
    "6.行数を使って沖縄県（48行目）のデータを抽出し、df_Bに代入しましょう。（行の選択・抽出）"
   ]
  },
  {
   "cell_type": "code",
   "execution_count": null,
   "metadata": {},
   "outputs": [],
   "source": [
    "df_B = df_2.iloc[47]\n",
    "df_B"
   ]
  },
  {
   "attachments": {},
   "cell_type": "markdown",
   "metadata": {},
   "source": [
    "7.df_medicalから'一般診療所数','医師数'を削除しましょう。（列の削除）"
   ]
  },
  {
   "cell_type": "code",
   "execution_count": null,
   "metadata": {},
   "outputs": [],
   "source": [
    "df_hp =df_medical.drop(['一般診療所数','医師数'],axis=1)\n",
    "df_hp"
   ]
  },
  {
   "attachments": {},
   "cell_type": "markdown",
   "metadata": {},
   "source": [
    "7.df_hpを降順に並べ替えましょう。（列の並べ替え）"
   ]
  },
  {
   "cell_type": "code",
   "execution_count": null,
   "metadata": {},
   "outputs": [],
   "source": [
    "df_hp = df_hp.sort_values('一般病院数',ascending=False)\n",
    "df_hp"
   ]
  },
  {
   "attachments": {},
   "cell_type": "markdown",
   "metadata": {},
   "source": [
    "8.df_hpから　'一般病院数' が300以上のデータを抽出しましょう。（列の条件付き抽出）"
   ]
  },
  {
   "cell_type": "code",
   "execution_count": null,
   "metadata": {},
   "outputs": [],
   "source": [
    "df_hp[df_hp['一般病院数']>=100]"
   ]
  },
  {
   "attachments": {},
   "cell_type": "markdown",
   "metadata": {},
   "source": [
    "9.df_medicalから　'一般病院数' が平均以上のデータを抽出しましょう。（データの集計、列の条件付き抽出）"
   ]
  },
  {
   "cell_type": "code",
   "execution_count": null,
   "metadata": {},
   "outputs": [],
   "source": [
    "df_hp[df_hp['一般病院数']>=df_hp['一般病院数'].mean()]"
   ]
  },
  {
   "attachments": {},
   "cell_type": "markdown",
   "metadata": {},
   "source": [
    "10.df_hpに総人口を追加しましょう。総人口はdf_2のデータを引用してください。（列の追加）"
   ]
  },
  {
   "cell_type": "code",
   "execution_count": null,
   "metadata": {},
   "outputs": [],
   "source": [
    "df_hp['総人口']= df_2['総人口']\n",
    "df_hp"
   ]
  },
  {
   "attachments": {},
   "cell_type": "markdown",
   "metadata": {},
   "source": [
    "11.　データフレーム上の数字が小数点第２位以下を丸めて表示するように設定を変更しましょう。（データフレームのディスプレイオプションの変更）"
   ]
  },
  {
   "cell_type": "code",
   "execution_count": null,
   "metadata": {},
   "outputs": [],
   "source": [
    "pd.options.display.float_format = '{:.2f}'.format"
   ]
  },
  {
   "attachments": {},
   "cell_type": "markdown",
   "metadata": {},
   "source": [
    "12.　df_hpに人口10000人あたりの病院数を ’病院数/万人' として追加しましょう。（データを用いた計算）"
   ]
  },
  {
   "cell_type": "code",
   "execution_count": null,
   "metadata": {},
   "outputs": [],
   "source": [
    "df_hp['病院数/万人'] = df_hp['一般病院数']/df_hp['総人口']*10000\n",
    "df_hp "
   ]
  },
  {
   "attachments": {},
   "cell_type": "markdown",
   "metadata": {},
   "source": [
    "*特別編*\n",
    "'病院数/万人'を降順に並べ替え、rankメソッドを使って'Rank'カラムをdf_hpに追加しましょう。\n",
    "その後、自身の居住地が何番目か数字で表示しましょう。（全国のデータを予め削除しておきましょう）"
   ]
  },
  {
   "cell_type": "code",
   "execution_count": null,
   "metadata": {},
   "outputs": [],
   "source": [
    "df_hp = df_hp.drop('全国')\n",
    "df_hp = df_hp.sort_values('病院数/万人',ascending=False)\n",
    "df_hp['Rank'] = df_hp['病院数/万人'].rank(ascending=False).astype(int)\n",
    "\n",
    "\n",
    "ranking = df_hp.loc[df_hp.index == '山口県','Rank'].item()\n",
    "# 山口県の部分は自身の居住地に変更する\n",
    "\n",
    "ranking\n",
    "df_hp"
   ]
  },
  {
   "cell_type": "code",
   "execution_count": null,
   "metadata": {},
   "outputs": [],
   "source": []
  }
 ],
 "metadata": {
  "kernelspec": {
   "display_name": "Python 3",
   "language": "python",
   "name": "python3"
  },
  "language_info": {
   "codemirror_mode": {
    "name": "ipython",
    "version": 3
   },
   "file_extension": ".py",
   "mimetype": "text/x-python",
   "name": "python",
   "nbconvert_exporter": "python",
   "pygments_lexer": "ipython3",
   "version": "3.9.6"
  },
  "orig_nbformat": 4
 },
 "nbformat": 4,
 "nbformat_minor": 2
}
