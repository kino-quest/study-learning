{
 "cells": [
  {
   "cell_type": "code",
   "execution_count": 1,
   "id": "80553de5-9518-4036-a2d6-7824f0d35080",
   "metadata": {},
   "outputs": [],
   "source": [
    "#問題１【変数への代入】\n",
    "#変数 name に自分のSlack名を代入しましょう。\n",
    "name='akki'"
   ]
  },
  {
   "cell_type": "code",
   "execution_count": 2,
   "id": "e2290c04-e28d-4417-b4b2-34228fb84878",
   "metadata": {},
   "outputs": [],
   "source": [
    "#問題２【変数への代入】\n",
    "#変数　birth に自分の誕生日を代入しましょう。　　例：7月10日なら0710\n",
    "\n",
    "birth=710\n"
   ]
  },
  {
   "cell_type": "code",
   "execution_count": 3,
   "id": "23c9ad41-ab12-44ac-a05c-099e7ed4905e",
   "metadata": {},
   "outputs": [
    {
     "name": "stdout",
     "output_type": "stream",
     "text": [
      "私の名前はakkiです\n"
     ]
    }
   ],
   "source": [
    "#問題３【printで出力　その１】　\n",
    "#変数nameを使って、　「私の名前は〇〇です」　と表示してみましょう。\n",
    "print('私の名前は'+ name + 'です')"
   ]
  },
  {
   "cell_type": "code",
   "execution_count": 4,
   "id": "817147ea-cf1b-4c10-97a9-68816b605811",
   "metadata": {},
   "outputs": [
    {
     "name": "stdout",
     "output_type": "stream",
     "text": [
      "akkiの誕生日は710です。\n"
     ]
    }
   ],
   "source": [
    "#問題４【printで出力　その２】　\n",
    "#変数name と変数birth　を使って「〇〇の誕生日はddmmです」と表示してみましょう\n",
    "print(name+'の誕生日は' + str(birth)+ 'です。')"
   ]
  },
  {
   "cell_type": "code",
   "execution_count": 5,
   "id": "e5151727-8926-485c-b41b-c569c6d5f33f",
   "metadata": {},
   "outputs": [
    {
     "name": "stdin",
     "output_type": "stream",
     "text": [
      "好きな果物を入力してください ぶどう\n"
     ]
    },
    {
     "name": "stdout",
     "output_type": "stream",
     "text": [
      "私の好きな果物はぶどうです。\n"
     ]
    }
   ],
   "source": [
    "#問題５【input文　その１】\n",
    "#変数fruitにinput文で入力できるようにしましょう。\"好きな果物を入力してください\"というテキストです。\n",
    "#そしてprintで\"私のすきな果物は○○○○○○\"と出力しましょう。\n",
    "\n",
    "fruit=input('好きな果物を入力してください')\n",
    "print('私の好きな果物は' + fruit+'です。')\n"
   ]
  },
  {
   "cell_type": "code",
   "execution_count": 19,
   "id": "be8d6129-31e2-4d50-9ece-91b59365a6cf",
   "metadata": {},
   "outputs": [
    {
     "name": "stdin",
     "output_type": "stream",
     "text": [
      "好きな数字を入力してください 14\n"
     ]
    },
    {
     "name": "stdout",
     "output_type": "stream",
     "text": [
      "私の好きな数字は14です。\n"
     ]
    }
   ],
   "source": [
    "#問題６【input文　その２】\n",
    "#変数 number にinput文で入力できるようにしましょう。ただしnumberはint型です。\n",
    "#\"好きな数字を入力してください\"というテキストです。\n",
    "#そしてprintで\"私のすきな数字は○○○○○○\"と出力しましょう。\n",
    "\n",
    "number=int(input('好きな数字を入力してください'))\n",
    "\n",
    "print('私の好きな数字は'+ str(number)+'です。')"
   ]
  },
  {
   "cell_type": "code",
   "execution_count": 20,
   "id": "79907bfa-ea2b-4faa-b6ad-a58a7a34faa2",
   "metadata": {},
   "outputs": [
    {
     "name": "stdout",
     "output_type": "stream",
     "text": [
      "10割る３の答えは3余り1です。\n"
     ]
    }
   ],
   "source": [
    "#問題７【四則計算と代入　printで出力】\n",
    "#xに10割る３の商を代入しましょう。\n",
    "#yに10割る３の余りを代入しましょう。\n",
    "#print  x  y を使って　「10割る３の答えは　〇　余り　×　です。」　と出力しましょう。\n",
    "\n",
    "x=10//3\n",
    "y=10%3\n",
    "print('10割る３の答えは'+str(x)+'余り'+str(y)+ 'です。')"
   ]
  },
  {
   "cell_type": "code",
   "execution_count": 21,
   "id": "06db6ba3-a55e-43cb-9680-649ac08e1333",
   "metadata": {},
   "outputs": [
    {
     "name": "stdin",
     "output_type": "stream",
     "text": [
      "数字を入力してください 110\n"
     ]
    },
    {
     "name": "stdout",
     "output_type": "stream",
     "text": [
      "10よりも大きいです\n"
     ]
    }
   ],
   "source": [
    "#問題８【if文　input print】\n",
    "#入力した数字に対して、if文でnumがもし10より大きかったら\"10より大きい\"と出力するコードを書きましょう\n",
    "\n",
    "x=int(input('数字を入力してください'))\n",
    "\n",
    "if x>10:\n",
    "    print('10よりも大きいです')\n",
    "elif x==10:\n",
    "    print('10です')\n",
    "else:\n",
    "    print('10より小さいです')\n"
   ]
  },
  {
   "cell_type": "code",
   "execution_count": 22,
   "id": "78ed509f-37af-4a51-8f4d-5f969f3986d9",
   "metadata": {},
   "outputs": [],
   "source": [
    "#問題９　【配列を作る】\n",
    "#arr に次の配列を代入してください。[2,3,5,7,11,13,17,19,23,29,31,37,41,43,47,53]\n",
    "arr=[2,3,5,7,11,13,17,19,23,29,31,37,41,43,47,53]"
   ]
  },
  {
   "cell_type": "code",
   "execution_count": 23,
   "id": "9c9cab33-b9b5-4cfa-9a0e-05fadf9a6fe8",
   "metadata": {},
   "outputs": [
    {
     "name": "stdout",
     "output_type": "stream",
     "text": [
      "11\n"
     ]
    }
   ],
   "source": [
    "#問題１０要素37のインデックス番号をaに代入しましょう。printでaを出力してみましょう。11になればOKです。\n",
    "a=arr.index(37)\n",
    "print(a)"
   ]
  },
  {
   "cell_type": "code",
   "execution_count": 24,
   "id": "934f194c-c3dd-4aa0-a6bb-9948370873db",
   "metadata": {},
   "outputs": [
    {
     "name": "stdout",
     "output_type": "stream",
     "text": [
      "11\n"
     ]
    }
   ],
   "source": [
    "#問題１１　arrの5番目の要素を出力しましょう。\n",
    "print(arr[4])"
   ]
  },
  {
   "cell_type": "code",
   "execution_count": 25,
   "id": "fd8498ea-3a14-4ef1-8d15-37f7843b6c74",
   "metadata": {},
   "outputs": [
    {
     "name": "stdout",
     "output_type": "stream",
     "text": [
      "47\n"
     ]
    }
   ],
   "source": [
    "#問題１２　arrの最後から2番目の要素を出力しましょう\n",
    "print(arr[-2])"
   ]
  },
  {
   "cell_type": "code",
   "execution_count": 26,
   "id": "786d0964-ba52-44cc-a813-338ede1b646a",
   "metadata": {},
   "outputs": [
    {
     "data": {
      "text/plain": [
       "[2, 3, 5, 7, 11, 13, 17, 19, 23, 29, 31, 37, 41, 43, 47, 53]"
      ]
     },
     "execution_count": 26,
     "metadata": {},
     "output_type": "execute_result"
    }
   ],
   "source": [
    "arr"
   ]
  },
  {
   "cell_type": "code",
   "execution_count": 27,
   "id": "06b4e2f8-0d8e-4e4d-bd27-faad9e9c2ebb",
   "metadata": {},
   "outputs": [
    {
     "name": "stdout",
     "output_type": "stream",
     "text": [
      "16\n"
     ]
    }
   ],
   "source": [
    "#問題１３【配列】 \n",
    "#arrの要素の数を算出して、ｋに代入しましょう。\n",
    "\n",
    "k=len(arr)\n",
    "print(k)"
   ]
  },
  {
   "cell_type": "code",
   "execution_count": 28,
   "id": "6e089823-8fb9-4498-999d-785958d4155a",
   "metadata": {},
   "outputs": [
    {
     "name": "stdout",
     "output_type": "stream",
     "text": [
      "53\n"
     ]
    }
   ],
   "source": [
    "#問題１４　【配列　変数】\n",
    "#kを使って、arrの最後の要素を出力しましょう。\n",
    "\n",
    "k=len(arr)\n",
    "print(arr[k-1])"
   ]
  },
  {
   "cell_type": "code",
   "execution_count": 29,
   "id": "4696596c-56f8-499d-a636-2a94767f43c4",
   "metadata": {},
   "outputs": [
    {
     "data": {
      "text/plain": [
       "[2, 3, 5, 7, 11, 13, 17, 19, 23, 29, 31, 37, 41, 43, 47, 53, 59]"
      ]
     },
     "execution_count": 29,
     "metadata": {},
     "output_type": "execute_result"
    }
   ],
   "source": [
    "#問題１５　【配列　変数】\n",
    "#kを使って、arrの最後の要素に59を追加しましょう\n",
    "#追加できていることを確認しましょう。\n",
    "\n",
    "arr.insert(k,59)\n",
    "arr"
   ]
  },
  {
   "cell_type": "code",
   "execution_count": null,
   "id": "ee1ae6f6-de8c-4272-8ebb-d281d7e95b3f",
   "metadata": {},
   "outputs": [],
   "source": []
  }
 ],
 "metadata": {
  "kernelspec": {
   "display_name": "Python 3 (ipykernel)",
   "language": "python",
   "name": "python3"
  },
  "language_info": {
   "codemirror_mode": {
    "name": "ipython",
    "version": 3
   },
   "file_extension": ".py",
   "mimetype": "text/x-python",
   "name": "python",
   "nbconvert_exporter": "python",
   "pygments_lexer": "ipython3",
   "version": "3.9.13"
  }
 },
 "nbformat": 4,
 "nbformat_minor": 5
}
