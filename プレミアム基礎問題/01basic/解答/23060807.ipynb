{
 "cells": [
  {
   "cell_type": "code",
   "execution_count": 1,
   "id": "000e34cf-5f07-4c63-aa56-7b4d97c0ac26",
   "metadata": {},
   "outputs": [],
   "source": [
    "#1\n",
    "str = \"We have breakfast. They like tomatoes them.\""
   ]
  },
  {
   "cell_type": "code",
   "execution_count": 5,
   "id": "568dffdd-19c2-41e5-bbdd-13453b0bc28d",
   "metadata": {},
   "outputs": [
    {
     "name": "stdout",
     "output_type": "stream",
     "text": [
      "4\n"
     ]
    }
   ],
   "source": [
    "#2\n",
    "print(str.count(\"a\"))"
   ]
  },
  {
   "cell_type": "code",
   "execution_count": 12,
   "id": "166d5a6c-28f0-48da-ada3-4f336ec9d52b",
   "metadata": {},
   "outputs": [],
   "source": [
    "#3\n",
    "name = [\"Ito\", \"Yamazaki\", \"Sato\"]\n",
    "score = [45, 70, 80]\n"
   ]
  },
  {
   "cell_type": "code",
   "execution_count": 15,
   "id": "5b73f1a1-a6c5-40d3-95ed-32f81bc3ff15",
   "metadata": {},
   "outputs": [
    {
     "name": "stdout",
     "output_type": "stream",
     "text": [
      "['Ito', 'Yamazaki', 'Sato', 'Yamamoto', 'Yamamoto']\n",
      "[45, 70, 80, 95, 95]\n"
     ]
    }
   ],
   "source": [
    "#4\n",
    "name.append(\"Yamamoto\" )\n",
    "score.append(95)\n",
    "print(name)\n",
    "print(score)"
   ]
  },
  {
   "cell_type": "code",
   "execution_count": 16,
   "id": "4503a40b-f4e7-4fad-98fe-9d4c06ce022d",
   "metadata": {},
   "outputs": [
    {
     "name": "stdout",
     "output_type": "stream",
     "text": [
      "Ito 45\n",
      "Yamazaki 70\n",
      "Sato 80\n",
      "Yamamoto 95\n",
      "Yamamoto 95\n"
     ]
    }
   ],
   "source": [
    "#5\n",
    "for n,s in zip(name,score):\n",
    "    print(n,s)"
   ]
  },
  {
   "cell_type": "code",
   "execution_count": 24,
   "id": "78c8e123-dac8-4044-a5a5-a62b159292d4",
   "metadata": {},
   "outputs": [],
   "source": [
    "#6\n",
    "jisyo={\"book\" : 2, \"pen\" : 5, \"text\" : 2, \"eraser\" : 10}"
   ]
  },
  {
   "cell_type": "code",
   "execution_count": 25,
   "id": "2a862df2-1925-4324-a911-bb662e6b373b",
   "metadata": {},
   "outputs": [],
   "source": [
    "#7\n",
    "jisyo[\"text\"]=15"
   ]
  },
  {
   "cell_type": "code",
   "execution_count": 26,
   "id": "c68e20e6-0c3b-46fb-b80d-fa5abb45d4ec",
   "metadata": {},
   "outputs": [
    {
     "data": {
      "text/plain": [
       "{'book': 2, 'pen': 5, 'text': 15, 'eraser': 10}"
      ]
     },
     "execution_count": 26,
     "metadata": {},
     "output_type": "execute_result"
    }
   ],
   "source": [
    "jisyo"
   ]
  },
  {
   "cell_type": "code",
   "execution_count": 27,
   "id": "a33426e3-986f-473a-a7f5-afb63e750234",
   "metadata": {},
   "outputs": [],
   "source": [
    "#8\n",
    "del jisyo['book']\n"
   ]
  },
  {
   "cell_type": "code",
   "execution_count": 29,
   "id": "17245c79-7248-4e96-8d98-ec13da1b647a",
   "metadata": {},
   "outputs": [
    {
     "name": "stdout",
     "output_type": "stream",
     "text": [
      "pen 5\n",
      "text 15\n",
      "eraser 10\n"
     ]
    }
   ],
   "source": [
    "#9\n",
    "for k,v in jisyo.items():\n",
    "    print(k,v)"
   ]
  },
  {
   "cell_type": "code",
   "execution_count": 30,
   "id": "dfa12599-0c20-4d37-96ef-6e3cbb996216",
   "metadata": {},
   "outputs": [],
   "source": [
    "#10\n",
    "import math"
   ]
  },
  {
   "cell_type": "code",
   "execution_count": 32,
   "id": "26122008-f865-4ea0-9faf-cbd0db8988a1",
   "metadata": {},
   "outputs": [
    {
     "name": "stdout",
     "output_type": "stream",
     "text": [
      "11\n"
     ]
    }
   ],
   "source": [
    "#11\n",
    "print(math.gcd(55,88))"
   ]
  },
  {
   "cell_type": "code",
   "execution_count": 35,
   "id": "67edc9ad-a2cf-45cd-9289-47bdc2736837",
   "metadata": {},
   "outputs": [
    {
     "name": "stdout",
     "output_type": "stream",
     "text": [
      "440\n"
     ]
    }
   ],
   "source": [
    "#12\n",
    "num_g=math.gcd(55,88)\n",
    "\n",
    "num_new=55/num_g*88/num_g*num_g\n",
    "print(int(num_new))\n"
   ]
  },
  {
   "cell_type": "code",
   "execution_count": 46,
   "id": "e02782ec-bf3c-4201-97d1-f4f23271c95a",
   "metadata": {},
   "outputs": [
    {
     "name": "stdout",
     "output_type": "stream",
     "text": [
      "12\n"
     ]
    }
   ],
   "source": [
    "#13\n",
    "#14\n",
    "arr= [1, 2, 2, 3, 5, 8, 15, 18, 36, 55, 79, 101]\n",
    "k=len(arr)\n",
    "print(k)"
   ]
  },
  {
   "cell_type": "code",
   "execution_count": 47,
   "id": "ea8fe19a-62f2-40f8-af1d-4f32e0a8d400",
   "metadata": {},
   "outputs": [],
   "source": [
    "#15\n",
    "arr.insert(k-1,90)"
   ]
  },
  {
   "cell_type": "code",
   "execution_count": 48,
   "id": "a6943bbb-3938-4963-b8c5-aefbf412db1c",
   "metadata": {},
   "outputs": [
    {
     "data": {
      "text/plain": [
       "[1, 2, 2, 3, 5, 8, 15, 18, 36, 55, 79, 90, 101]"
      ]
     },
     "execution_count": 48,
     "metadata": {},
     "output_type": "execute_result"
    }
   ],
   "source": [
    "arr"
   ]
  },
  {
   "cell_type": "code",
   "execution_count": 51,
   "id": "99deba48-6e9c-4fac-ab25-7ea311ed815e",
   "metadata": {},
   "outputs": [],
   "source": [
    "#16\n",
    "arr.sort(reverse=True)"
   ]
  },
  {
   "cell_type": "code",
   "execution_count": 57,
   "id": "e29cc0ea-ae7b-4faa-9ec1-1aa57299a39e",
   "metadata": {},
   "outputs": [
    {
     "data": {
      "text/plain": [
       "[101, 90, 79, 55, 36, 18, 15, 8, 5, 3, 2, 2, 1]"
      ]
     },
     "execution_count": 57,
     "metadata": {},
     "output_type": "execute_result"
    }
   ],
   "source": [
    "arr"
   ]
  },
  {
   "cell_type": "code",
   "execution_count": 66,
   "id": "8c112696-2dcc-44f7-a00c-6c651dbc7a53",
   "metadata": {},
   "outputs": [
    {
     "name": "stdout",
     "output_type": "stream",
     "text": [
      "<class 'int'>\n",
      "<class 'int'>\n",
      "<class 'int'>\n",
      "<class 'int'>\n",
      "<class 'int'>\n",
      "<class 'int'>\n",
      "<class 'int'>\n",
      "<class 'int'>\n",
      "<class 'int'>\n",
      "<class 'int'>\n",
      "<class 'int'>\n",
      "<class 'int'>\n",
      "<class 'int'>\n"
     ]
    }
   ],
   "source": [
    "for i in arr:\n",
    "    print(type(i))"
   ]
  },
  {
   "cell_type": "code",
   "execution_count": 64,
   "id": "6fc98f6d-eb32-4a12-9a84-c96f64c47067",
   "metadata": {},
   "outputs": [
    {
     "name": "stdout",
     "output_type": "stream",
     "text": [
      "101 50以上です\n",
      "90 50以上です\n",
      "79 50以上です\n",
      "55 50以上です\n",
      "36 50未満です\n",
      "18 50未満です\n",
      "15 50未満です\n",
      "8 50未満です\n",
      "5 50未満です\n",
      "3 50未満です\n",
      "2 50未満です\n",
      "2 50未満です\n",
      "1 50未満です\n"
     ]
    }
   ],
   "source": [
    "#17\n",
    "for i in arr:\n",
    "    if i>50:\n",
    "        print(i,\"は50以上です\")\n",
    "    else:\n",
    "        print(i,\"は50未満です\")"
   ]
  },
  {
   "cell_type": "code",
   "execution_count": null,
   "id": "4ca63cc5-83ba-4a86-982d-5678c1a9ec05",
   "metadata": {},
   "outputs": [],
   "source": []
  }
 ],
 "metadata": {
  "kernelspec": {
   "display_name": "Python 3 (ipykernel)",
   "language": "python",
   "name": "python3"
  },
  "language_info": {
   "codemirror_mode": {
    "name": "ipython",
    "version": 3
   },
   "file_extension": ".py",
   "mimetype": "text/x-python",
   "name": "python",
   "nbconvert_exporter": "python",
   "pygments_lexer": "ipython3",
   "version": "3.9.13"
  }
 },
 "nbformat": 4,
 "nbformat_minor": 5
}
