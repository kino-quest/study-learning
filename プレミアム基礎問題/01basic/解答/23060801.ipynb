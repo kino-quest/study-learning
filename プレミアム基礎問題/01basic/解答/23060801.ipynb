{
 "cells": [
  {
   "cell_type": "code",
   "execution_count": 6,
   "metadata": {},
   "outputs": [
    {
     "name": "stdout",
     "output_type": "stream",
     "text": [
      "<class 'str'>\n",
      "<class 'int'>\n",
      "<class 'float'>\n",
      "<class 'bool'>\n"
     ]
    }
   ],
   "source": [
    "#1　型の確認 \n",
    "# \"3\", 3, 3.14, Trueのデータ型をprint関数で出力しましょう。\n",
    "print(type(\"3\"))\n",
    "print(type(3))\n",
    "print(type(3.14))\n",
    "print(type(True))"
   ]
  },
  {
   "cell_type": "code",
   "execution_count": 7,
   "metadata": {},
   "outputs": [
    {
     "name": "stdout",
     "output_type": "stream",
     "text": [
      "はじめてのpython\n"
     ]
    }
   ],
   "source": [
    "#2 文字列代入と出力\n",
    "# 変数wordに文字列\"はじめてのpython\"を代入し、print関数で出力してみましょう。\n",
    "word=\"はじめてのpython\"\n",
    "print(word)\n"
   ]
  },
  {
   "cell_type": "code",
   "execution_count": 15,
   "metadata": {},
   "outputs": [
    {
     "name": "stdout",
     "output_type": "stream",
     "text": [
      "10足す3は13\n",
      "10かける3は30\n",
      "10割る3は3.3333333333333335\n",
      "10割る3の商は3\n",
      "10割る3の余りは1\n"
     ]
    }
   ],
   "source": [
    "#3 四則演算\n",
    "# 10足す3,10かける3,10割る3、10割る3の商、10割る3の余りを出力するために以下のa,b,c,d,eへ数式を入力し、print関数で出力\n",
    "a=10+3\n",
    "b=10*3\n",
    "c=10/3\n",
    "d=10//3\n",
    "e=10%3\n",
    "\n",
    "#print関数は以下をコピーしてください。\n",
    "print('10足す3は'+ str(a)+ \n",
    "      '\\n10かける3は'+ str(b)+\n",
    "      '\\n10割る3は'+ str(c) +\n",
    "      '\\n10割る3の商は'+ str(d)+\n",
    "      '\\n10割る3の余りは'+ str(e))"
   ]
  },
  {
   "cell_type": "code",
   "execution_count": 19,
   "metadata": {},
   "outputs": [
    {
     "name": "stdout",
     "output_type": "stream",
     "text": [
      "10以下です\n"
     ]
    }
   ],
   "source": [
    "#4　条件分岐\n",
    "#if文でnumが10であるとき、\"10です\"と出力し、10より大きかったら\"10より大きい\"、\n",
    "#そうでなければ\"10以下です\"と出力するコードを書きましょう。numの値を変更して動作確認してみましょう。\n",
    "\n",
    "num=9\n",
    "if num==10:\n",
    "    print(\"10です\")\n",
    "elif num>10:\n",
    "    print('10より大きい')\n",
    "else:\n",
    "    print('10以下です')\n"
   ]
  },
  {
   "cell_type": "code",
   "execution_count": 24,
   "metadata": {},
   "outputs": [
    {
     "name": "stdout",
     "output_type": "stream",
     "text": [
      "8\n",
      "55\n"
     ]
    }
   ],
   "source": [
    "#5 リストの出力\n",
    "#配列arr = [1, 2, 2, 3, 5, 8, 15, 18, 36, 55, 79, 101]の要素36のインデックス番号と\n",
    "# インデックス番号9の要素をprint関数で出力しましょう。\n",
    "arr = [1, 2, 2, 3, 5, 8, 15, 18, 36, 55, 79, 101]\n",
    "print(arr.index(36))\n",
    "print(arr[9])"
   ]
  },
  {
   "cell_type": "code",
   "execution_count": 29,
   "metadata": {},
   "outputs": [
    {
     "name": "stdout",
     "output_type": "stream",
     "text": [
      "[6, 101, 79, 55, 36, 24, 18, 15, 8, 6, 5, 3, 2, 2, 1, 24]\n",
      "16\n"
     ]
    }
   ],
   "source": [
    "#6　リストへの要素結合\n",
    "#arrの末尾に24を追加し先頭に6を追加した結果とarrリストの長さをprint出力しましょう。\n",
    "arr.append(24)\n",
    "arr.insert(0,6)\n",
    "print(arr)\n",
    "print(len(arr))"
   ]
  },
  {
   "cell_type": "code",
   "execution_count": 33,
   "metadata": {},
   "outputs": [
    {
     "name": "stdout",
     "output_type": "stream",
     "text": [
      "[1, 2, 2, 3, 5, 6, 6, 8, 15, 18, 24, 24, 36, 55, 79, 101]\n",
      "[101, 79, 55, 36, 24, 24, 18, 15, 8, 6, 6, 5, 3, 2, 2, 1]\n"
     ]
    }
   ],
   "source": [
    "#7　リストのソート\n",
    "# arrを昇順と降順でソートした結果をprint関数で出力しましょう。\n",
    "arr.sort()\n",
    "print(arr)\n",
    "arr.sort(reverse=True)\n",
    "print(arr)\n"
   ]
  },
  {
   "cell_type": "code",
   "execution_count": 34,
   "metadata": {},
   "outputs": [
    {
     "name": "stdout",
     "output_type": "stream",
     "text": [
      "101\n",
      "79\n",
      "55\n",
      "36\n",
      "24\n",
      "24\n",
      "18\n",
      "15\n",
      "8\n",
      "6\n",
      "6\n",
      "5\n",
      "3\n",
      "2\n",
      "2\n",
      "1\n"
     ]
    }
   ],
   "source": [
    "#8　リストの繰り返し出力\n",
    "# arrの要素を一つずつをfor文を使って出力しましょう。\n",
    "for i in arr:\n",
    "    print(i)"
   ]
  },
  {
   "cell_type": "code",
   "execution_count": 41,
   "metadata": {},
   "outputs": [
    {
     "name": "stdout",
     "output_type": "stream",
     "text": [
      "385\n",
      "101\n"
     ]
    }
   ],
   "source": [
    "#9 リストの合計値と最大値\n",
    "# arrの合計値と最大値をprint関数で出力しましょう。\n",
    "print(sum(arr))\n",
    "print(max(arr))"
   ]
  },
  {
   "cell_type": "code",
   "execution_count": 3,
   "metadata": {},
   "outputs": [
    {
     "name": "stdout",
     "output_type": "stream",
     "text": [
      "商品iceは100円です\n",
      "商品yakitoriは120円です\n",
      "商品sushiは500円です\n"
     ]
    }
   ],
   "source": [
    "# 10\n",
    "# リストの出力２\n",
    "foods = [\"ice\", \"yakitori\", \"sushi\"]\n",
    "prices = [100, 120, 500]\n",
    "#foodsとpricesの要素を一つずつfor文を使って取り出し、\n",
    "# 「商品●●は△△円です」と出力しましょう。\n",
    "for x,y in zip(foods,prices):\n",
    "    print(\"商品{}は{}円です\".format(x,y))"
   ]
  },
  {
   "cell_type": "code",
   "execution_count": 4,
   "metadata": {},
   "outputs": [
    {
     "name": "stdout",
     "output_type": "stream",
     "text": [
      "book : 2\n",
      "pen : 5\n",
      "text : 2\n",
      "eraser : 10\n"
     ]
    }
   ],
   "source": [
    "#11 辞書\n",
    "jisho={\"book\": 2, \"pen\" : 5, \"text\" : 2, \"eraser\" : 10}\n",
    "\n",
    "for key,value in jisho.items():\n",
    "    print(key,\":\",value)\n",
    "\n",
    "#11\n",
    "#jisyoに book : 2, pen : 5, text : 2, eraser : 10\n",
    "#jisyoをfor文を使ってkeyと値を一行ずつ出力しましょう。"
   ]
  },
  {
   "cell_type": "code",
   "execution_count": 6,
   "metadata": {},
   "outputs": [
    {
     "name": "stdout",
     "output_type": "stream",
     "text": [
      "c:\\Users\\ykk05\\hello\\Mondai\\230608\n",
      "['230608_Answer.ipynb', 'README.md', 'SSDSE-E-2023.xlsx', 'template.md']\n"
     ]
    }
   ],
   "source": [
    "#12 import　os \n",
    "# import os のコードを実行させて、\n",
    "# 現在の作業ディレクトリと中身のファイル名を取得してprint関数で出力しましょう。\n",
    "#ディレクトリの中にある全てのファイル名を取得するメソッドを実行させましょう。\n",
    "import os\n",
    "print(os.getcwd())\n",
    "print(os.listdir())\n"
   ]
  },
  {
   "cell_type": "code",
   "execution_count": 17,
   "metadata": {},
   "outputs": [
    {
     "name": "stdout",
     "output_type": "stream",
     "text": [
      "22:38:39.806719\n",
      "2023-06-06\n",
      "Tuesday\n"
     ]
    }
   ],
   "source": [
    "#13　import datetime\n",
    "#import datetime のコードを実行させ、\n",
    "#現在時刻、今日の日付、曜日をprint関数で出力してみましょう。\n",
    "import datetime\n",
    "today=datetime.date.today()\n",
    "\n",
    "print(datetime.datetime.now().time())\n",
    "print(today)\n",
    "print(today.strftime(\"%A\"))"
   ]
  },
  {
   "cell_type": "code",
   "execution_count": 22,
   "metadata": {},
   "outputs": [
    {
     "name": "stdout",
     "output_type": "stream",
     "text": [
      "99825\n",
      "99824\n",
      "315.95005190694303\n",
      "6\n"
     ]
    }
   ],
   "source": [
    "#14 \n",
    "import math\n",
    "x=99824.4353\n",
    "# 小数点以下切り上げ\n",
    "print(math.ceil(x))\n",
    "# 小数点以下切り捨て\n",
    "print(math.floor(x))\n",
    "# 平方根の計算\n",
    "print(math.sqrt(99824.4353))\n",
    "# 最大公約数の計算\n",
    "print(math.gcd(18, 30))\n",
    "\n",
    "#import mathのコードを実行させ、\n",
    "# 99824.4353 の小数点以下切り上げ値,切り捨て値,平方根を求めましょう。\n",
    "# また、18と30の最大公約数を求めましょう。"
   ]
  },
  {
   "cell_type": "code",
   "execution_count": 24,
   "metadata": {},
   "outputs": [
    {
     "name": "stdout",
     "output_type": "stream",
     "text": [
      "['this', 'is', 'final', 'topic.', 'next', 'topic', 'is', 'pandas.']\n"
     ]
    }
   ],
   "source": [
    "#15\n",
    "#import re のコードを実行させましょう。\n",
    "#final_q = \"this is final topic. next topic is pandas.\"に対し、\n",
    "#re.splitメソッドを使って文章を半角スペースで分割しましょう。\n",
    "#結果をprint関数で出力しましょう。\n",
    "\n",
    "import re\n",
    "final_q = \"this is final topic. next topic is pandas.\"\n",
    "split_result = re.split(r\"\\s\", final_q)\n",
    "print(split_result)"
   ]
  },
  {
   "cell_type": "code",
   "execution_count": null,
   "metadata": {},
   "outputs": [],
   "source": []
  }
 ],
 "metadata": {
  "kernelspec": {
   "display_name": ".venv",
   "language": "python",
   "name": "python3"
  },
  "language_info": {
   "codemirror_mode": {
    "name": "ipython",
    "version": 3
   },
   "file_extension": ".py",
   "mimetype": "text/x-python",
   "name": "python",
   "nbconvert_exporter": "python",
   "pygments_lexer": "ipython3",
   "version": "3.11.2"
  },
  "orig_nbformat": 4
 },
 "nbformat": 4,
 "nbformat_minor": 2
}
