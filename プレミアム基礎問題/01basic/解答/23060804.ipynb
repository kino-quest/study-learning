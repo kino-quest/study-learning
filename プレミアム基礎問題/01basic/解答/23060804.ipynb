{
 "cells": [
  {
   "cell_type": "code",
   "execution_count": 19,
   "metadata": {},
   "outputs": [],
   "source": [
    "#1\n",
    "import pandas as pd\n"
   ]
  },
  {
   "cell_type": "code",
   "execution_count": 20,
   "metadata": {},
   "outputs": [],
   "source": [
    "#2\n",
    "df = pd.read_excel('SSDSE-E-2023.xlsx', skiprows=2)\n",
    "# df = pd.read_excel('SSDSE-E-2023.xlsx', header=2)"
   ]
  },
  {
   "cell_type": "code",
   "execution_count": 21,
   "metadata": {},
   "outputs": [
    {
     "data": {
      "text/html": [
       "<div>\n",
       "<style scoped>\n",
       "    .dataframe tbody tr th:only-of-type {\n",
       "        vertical-align: middle;\n",
       "    }\n",
       "\n",
       "    .dataframe tbody tr th {\n",
       "        vertical-align: top;\n",
       "    }\n",
       "\n",
       "    .dataframe thead th {\n",
       "        text-align: right;\n",
       "    }\n",
       "</style>\n",
       "<table border=\"1\" class=\"dataframe\">\n",
       "  <thead>\n",
       "    <tr style=\"text-align: right;\">\n",
       "      <th></th>\n",
       "      <th>地域コード</th>\n",
       "      <th>都道府県</th>\n",
       "      <th>総人口</th>\n",
       "      <th>日本人人口</th>\n",
       "      <th>15歳未満人口</th>\n",
       "      <th>15～64歳人口</th>\n",
       "      <th>65歳以上人口</th>\n",
       "      <th>外国人人口</th>\n",
       "      <th>出生数</th>\n",
       "      <th>合計特殊出生率</th>\n",
       "      <th>...</th>\n",
       "      <th>歯科診療所数</th>\n",
       "      <th>医師数</th>\n",
       "      <th>歯科医師数</th>\n",
       "      <th>薬剤師数</th>\n",
       "      <th>保育所等数</th>\n",
       "      <th>保育所等在所児数</th>\n",
       "      <th>消費支出（二人以上の世帯）</th>\n",
       "      <th>食料費（二人以上の世帯）</th>\n",
       "      <th>住居費（二人以上の世帯）</th>\n",
       "      <th>教養娯楽費（二人以上の世帯）</th>\n",
       "    </tr>\n",
       "  </thead>\n",
       "  <tbody>\n",
       "    <tr>\n",
       "      <th>0</th>\n",
       "      <td>R00000</td>\n",
       "      <td>全国</td>\n",
       "      <td>125502000</td>\n",
       "      <td>122780000</td>\n",
       "      <td>14784000</td>\n",
       "      <td>74504000</td>\n",
       "      <td>36214000</td>\n",
       "      <td>2402460</td>\n",
       "      <td>840835</td>\n",
       "      <td>1.36</td>\n",
       "      <td>...</td>\n",
       "      <td>67874</td>\n",
       "      <td>339623</td>\n",
       "      <td>107443</td>\n",
       "      <td>321982</td>\n",
       "      <td>29474</td>\n",
       "      <td>2624335</td>\n",
       "      <td>279024</td>\n",
       "      <td>75761</td>\n",
       "      <td>18329</td>\n",
       "      <td>24545</td>\n",
       "    </tr>\n",
       "    <tr>\n",
       "      <th>1</th>\n",
       "      <td>R01000</td>\n",
       "      <td>北海道</td>\n",
       "      <td>5183000</td>\n",
       "      <td>5147000</td>\n",
       "      <td>544000</td>\n",
       "      <td>2953000</td>\n",
       "      <td>1686000</td>\n",
       "      <td>34321</td>\n",
       "      <td>29523</td>\n",
       "      <td>1.24</td>\n",
       "      <td>...</td>\n",
       "      <td>2840</td>\n",
       "      <td>13731</td>\n",
       "      <td>4418</td>\n",
       "      <td>11802</td>\n",
       "      <td>1045</td>\n",
       "      <td>79404</td>\n",
       "      <td>268396</td>\n",
       "      <td>71448</td>\n",
       "      <td>22013</td>\n",
       "      <td>23762</td>\n",
       "    </tr>\n",
       "    <tr>\n",
       "      <th>2</th>\n",
       "      <td>R02000</td>\n",
       "      <td>青森県</td>\n",
       "      <td>1221000</td>\n",
       "      <td>1216000</td>\n",
       "      <td>127000</td>\n",
       "      <td>676000</td>\n",
       "      <td>419000</td>\n",
       "      <td>5409</td>\n",
       "      <td>6837</td>\n",
       "      <td>1.38</td>\n",
       "      <td>...</td>\n",
       "      <td>511</td>\n",
       "      <td>2773</td>\n",
       "      <td>735</td>\n",
       "      <td>2345</td>\n",
       "      <td>475</td>\n",
       "      <td>30723</td>\n",
       "      <td>245117</td>\n",
       "      <td>69503</td>\n",
       "      <td>13232</td>\n",
       "      <td>19092</td>\n",
       "    </tr>\n",
       "    <tr>\n",
       "      <th>3</th>\n",
       "      <td>R03000</td>\n",
       "      <td>岩手県</td>\n",
       "      <td>1196000</td>\n",
       "      <td>1189000</td>\n",
       "      <td>129000</td>\n",
       "      <td>659000</td>\n",
       "      <td>409000</td>\n",
       "      <td>6937</td>\n",
       "      <td>6718</td>\n",
       "      <td>1.35</td>\n",
       "      <td>...</td>\n",
       "      <td>566</td>\n",
       "      <td>2700</td>\n",
       "      <td>1016</td>\n",
       "      <td>2536</td>\n",
       "      <td>390</td>\n",
       "      <td>28895</td>\n",
       "      <td>272911</td>\n",
       "      <td>73738</td>\n",
       "      <td>17181</td>\n",
       "      <td>22302</td>\n",
       "    </tr>\n",
       "    <tr>\n",
       "      <th>4</th>\n",
       "      <td>R04000</td>\n",
       "      <td>宮城県</td>\n",
       "      <td>2290000</td>\n",
       "      <td>2269000</td>\n",
       "      <td>264000</td>\n",
       "      <td>1371000</td>\n",
       "      <td>655000</td>\n",
       "      <td>19453</td>\n",
       "      <td>14480</td>\n",
       "      <td>1.23</td>\n",
       "      <td>...</td>\n",
       "      <td>1052</td>\n",
       "      <td>5950</td>\n",
       "      <td>1896</td>\n",
       "      <td>5502</td>\n",
       "      <td>492</td>\n",
       "      <td>39497</td>\n",
       "      <td>284171</td>\n",
       "      <td>75689</td>\n",
       "      <td>19852</td>\n",
       "      <td>24985</td>\n",
       "    </tr>\n",
       "  </tbody>\n",
       "</table>\n",
       "<p>5 rows × 92 columns</p>\n",
       "</div>"
      ],
      "text/plain": [
       "    地域コード 都道府県        総人口      日本人人口   15歳未満人口  15～64歳人口   65歳以上人口    外国人人口  \\\n",
       "0  R00000   全国  125502000  122780000  14784000  74504000  36214000  2402460   \n",
       "1  R01000  北海道    5183000    5147000    544000   2953000   1686000    34321   \n",
       "2  R02000  青森県    1221000    1216000    127000    676000    419000     5409   \n",
       "3  R03000  岩手県    1196000    1189000    129000    659000    409000     6937   \n",
       "4  R04000  宮城県    2290000    2269000    264000   1371000    655000    19453   \n",
       "\n",
       "      出生数  合計特殊出生率  ...  歯科診療所数     医師数   歯科医師数    薬剤師数  保育所等数  保育所等在所児数  \\\n",
       "0  840835     1.36  ...   67874  339623  107443  321982  29474   2624335   \n",
       "1   29523     1.24  ...    2840   13731    4418   11802   1045     79404   \n",
       "2    6837     1.38  ...     511    2773     735    2345    475     30723   \n",
       "3    6718     1.35  ...     566    2700    1016    2536    390     28895   \n",
       "4   14480     1.23  ...    1052    5950    1896    5502    492     39497   \n",
       "\n",
       "   消費支出（二人以上の世帯）  食料費（二人以上の世帯）  住居費（二人以上の世帯）  教養娯楽費（二人以上の世帯）  \n",
       "0         279024         75761         18329           24545  \n",
       "1         268396         71448         22013           23762  \n",
       "2         245117         69503         13232           19092  \n",
       "3         272911         73738         17181           22302  \n",
       "4         284171         75689         19852           24985  \n",
       "\n",
       "[5 rows x 92 columns]"
      ]
     },
     "execution_count": 21,
     "metadata": {},
     "output_type": "execute_result"
    }
   ],
   "source": [
    "#3\n",
    "df.head()"
   ]
  },
  {
   "cell_type": "code",
   "execution_count": 48,
   "metadata": {},
   "outputs": [
    {
     "name": "stdout",
     "output_type": "stream",
     "text": [
      "{'福島県': 1812000, '茨城県': 2852000, '栃木県': 1921000, '群馬県': 1927000, '埼玉県': 7340000, '千葉県': 6275000, '東京都': 14010000}\n"
     ]
    }
   ],
   "source": [
    "pref_list = []\n",
    "pop_list = []\n",
    "for i, j in zip(df['都道府県'][7:14], df['総人口'][7:14]):\n",
    "    pref_list.append(i)\n",
    "    pop_list.append(j)\n",
    "\n",
    "jisyo = dict(zip(pref_list, pop_list))\n",
    "print(jisyo)"
   ]
  },
  {
   "cell_type": "code",
   "execution_count": 23,
   "metadata": {},
   "outputs": [
    {
     "data": {
      "text/plain": [
       "{'茨城県': 2852000,\n",
       " '栃木県': 1921000,\n",
       " '群馬県': 1927000,\n",
       " '埼玉県': 7340000,\n",
       " '千葉県': 6275000,\n",
       " '東京都': 14010000}"
      ]
     },
     "execution_count": 23,
     "metadata": {},
     "output_type": "execute_result"
    }
   ],
   "source": [
    "#4\n",
    "jisyo.pop('福島県')\n",
    "jisyo"
   ]
  },
  {
   "cell_type": "code",
   "execution_count": 24,
   "metadata": {},
   "outputs": [
    {
     "data": {
      "text/plain": [
       "{'茨城県': 2852000,\n",
       " '栃木県': 1921000,\n",
       " '群馬県': 1927000,\n",
       " '埼玉県': 7340000,\n",
       " '千葉県': 6275000,\n",
       " '東京都': 14010000,\n",
       " '神奈川県': 9236000}"
      ]
     },
     "execution_count": 24,
     "metadata": {},
     "output_type": "execute_result"
    }
   ],
   "source": [
    "#5\n",
    "jisyo['神奈川県'] = 9236000\n",
    "jisyo"
   ]
  },
  {
   "cell_type": "code",
   "execution_count": 25,
   "metadata": {},
   "outputs": [
    {
     "name": "stdout",
     "output_type": "stream",
     "text": [
      "茨城県\n",
      "栃木県\n",
      "群馬県\n",
      "埼玉県\n",
      "千葉県\n",
      "東京都\n",
      "神奈川県\n"
     ]
    }
   ],
   "source": [
    "#6\n",
    "for i in jisyo.keys():\n",
    "    print(i)"
   ]
  },
  {
   "cell_type": "code",
   "execution_count": 26,
   "metadata": {},
   "outputs": [
    {
     "name": "stdout",
     "output_type": "stream",
     "text": [
      "2852000\n",
      "1921000\n",
      "1927000\n",
      "7340000\n",
      "6275000\n",
      "14010000\n",
      "9236000\n"
     ]
    }
   ],
   "source": [
    "#7\n",
    "for j in jisyo.values():\n",
    "    print(j)"
   ]
  },
  {
   "cell_type": "code",
   "execution_count": 27,
   "metadata": {},
   "outputs": [
    {
     "name": "stdout",
     "output_type": "stream",
     "text": [
      "茨城県\n",
      "2852000\n",
      "栃木県\n",
      "1921000\n",
      "群馬県\n",
      "1927000\n",
      "埼玉県\n",
      "7340000\n",
      "千葉県\n",
      "6275000\n",
      "東京都\n",
      "14010000\n",
      "神奈川県\n",
      "9236000\n"
     ]
    }
   ],
   "source": [
    "#8\n",
    "for i, j in jisyo.items():\n",
    "    print(i)\n",
    "    print(j)"
   ]
  },
  {
   "cell_type": "code",
   "execution_count": 28,
   "metadata": {},
   "outputs": [
    {
     "data": {
      "text/plain": [
       "[1, 2, 3, 4, 5, 6, 7, 8, 9]"
      ]
     },
     "execution_count": 28,
     "metadata": {},
     "output_type": "execute_result"
    }
   ],
   "source": [
    "#9\n",
    "num = list(range(1,10))\n",
    "num"
   ]
  },
  {
   "cell_type": "code",
   "execution_count": 29,
   "metadata": {},
   "outputs": [
    {
     "name": "stdout",
     "output_type": "stream",
     "text": [
      "1\n",
      "2\n",
      "3\n",
      "4\n",
      "5\n",
      "6\n",
      "7\n",
      "8\n",
      "9\n"
     ]
    }
   ],
   "source": [
    "#10\n",
    "for i in num:\n",
    "    print(i)"
   ]
  },
  {
   "cell_type": "code",
   "execution_count": 30,
   "metadata": {},
   "outputs": [
    {
     "name": "stdout",
     "output_type": "stream",
     "text": [
      "[1, 2, 3, 4, 5, 6, 7, 8, 9, 2, 4, 6, 8, 10, 12, 14, 16, 18, 3, 6, 9, 12, 15, 18, 21, 24, 27, 4, 8, 12, 16, 20, 24, 28, 32, 36, 5, 10, 15, 20, 25, 30, 35, 40, 45, 6, 12, 18, 24, 30, 36, 42, 48, 54, 7, 14, 21, 28, 35, 42, 49, 56, 63, 8, 16, 24, 32, 40, 48, 56, 64, 72, 9, 18, 27, 36, 45, 54, 63, 72, 81]\n"
     ]
    }
   ],
   "source": [
    "#11\n",
    "result = []\n",
    "for i in num:\n",
    "    for j in num:\n",
    "        result.append(i*j)\n",
    "        \n",
    "print(result)"
   ]
  },
  {
   "cell_type": "code",
   "execution_count": 31,
   "metadata": {},
   "outputs": [
    {
     "data": {
      "text/plain": [
       "81"
      ]
     },
     "execution_count": 31,
     "metadata": {},
     "output_type": "execute_result"
    }
   ],
   "source": [
    "#12\n",
    "len(result)"
   ]
  },
  {
   "cell_type": "code",
   "execution_count": 32,
   "metadata": {},
   "outputs": [
    {
     "data": {
      "text/plain": [
       "60"
      ]
     },
     "execution_count": 32,
     "metadata": {},
     "output_type": "execute_result"
    }
   ],
   "source": [
    "#13\n",
    "result.index(49)"
   ]
  },
  {
   "cell_type": "code",
   "execution_count": 33,
   "metadata": {},
   "outputs": [
    {
     "data": {
      "text/plain": [
       "4"
      ]
     },
     "execution_count": 33,
     "metadata": {},
     "output_type": "execute_result"
    }
   ],
   "source": [
    "#14\n",
    "result.count(12)"
   ]
  },
  {
   "cell_type": "code",
   "execution_count": 34,
   "metadata": {},
   "outputs": [
    {
     "name": "stdout",
     "output_type": "stream",
     "text": [
      "32\n",
      "36\n",
      "30\n",
      "35\n",
      "40\n",
      "45\n",
      "30\n",
      "36\n",
      "42\n",
      "48\n",
      "54\n",
      "35\n",
      "42\n",
      "49\n",
      "56\n",
      "32\n",
      "40\n",
      "48\n",
      "56\n",
      "36\n",
      "45\n",
      "54\n"
     ]
    }
   ],
   "source": [
    "#15\n",
    "for i in result:\n",
    "    if 30<= i < 60:\n",
    "        print(i)"
   ]
  }
 ],
 "metadata": {
  "kernelspec": {
   "display_name": "Python 3 (ipykernel)",
   "language": "python",
   "name": "python3"
  },
  "language_info": {
   "codemirror_mode": {
    "name": "ipython",
    "version": 3
   },
   "file_extension": ".py",
   "mimetype": "text/x-python",
   "name": "python",
   "nbconvert_exporter": "python",
   "pygments_lexer": "ipython3",
   "version": "3.8.16"
  }
 },
 "nbformat": 4,
 "nbformat_minor": 4
}
