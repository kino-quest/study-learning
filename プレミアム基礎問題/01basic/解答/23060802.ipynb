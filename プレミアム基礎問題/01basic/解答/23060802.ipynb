{
 "cells": [
  {
   "cell_type": "markdown",
   "id": "a45cf301-a4d3-45e5-824d-e9dc51894ef9",
   "metadata": {},
   "source": [
    "1.ご自身の生まれた国をcountryに代入し、\"私が生まれた国は●●です。\"とprint出力しましょう。"
   ]
  },
  {
   "cell_type": "code",
   "execution_count": 24,
   "id": "c716472e-865c-43ab-8347-3aac673f60f2",
   "metadata": {},
   "outputs": [
    {
     "name": "stdout",
     "output_type": "stream",
     "text": [
      "私が生まれた国はJapanです。\n"
     ]
    }
   ],
   "source": [
    "country = 'Japan'\n",
    "print('私が生まれた国は'+ country + 'です。')"
   ]
  },
  {
   "cell_type": "markdown",
   "id": "9ce5ef0e-f045-49e2-8cbe-23bb6259d5c2",
   "metadata": {},
   "source": [
    "2.配列names = [\"Inoue\", \"Endo\", \"Kimura\",\"Sato\",\"Takahashi\",\"Nakamura\",\"Miura\"]をコードに書いて、\n",
    "namesの末尾に\"Yoshida\"を追加しましょう。"
   ]
  },
  {
   "cell_type": "code",
   "execution_count": 25,
   "id": "c8c6f85b-47c1-4744-95ee-b028ee03ebd9",
   "metadata": {},
   "outputs": [
    {
     "data": {
      "text/plain": [
       "['Inoue',\n",
       " 'Endo',\n",
       " 'Kimura',\n",
       " 'Sato',\n",
       " 'Takahashi',\n",
       " 'Nakamura',\n",
       " 'Miura',\n",
       " 'Yoshida']"
      ]
     },
     "execution_count": 25,
     "metadata": {},
     "output_type": "execute_result"
    }
   ],
   "source": [
    "names = [\"Inoue\", \"Endo\", \"Kimura\",\"Sato\",\"Takahashi\",\"Nakamura\",\"Miura\"]\n",
    "names.append(\"Yoshida\")\n",
    "names"
   ]
  },
  {
   "cell_type": "markdown",
   "id": "10cb3f4e-19d4-46d3-ad51-1836c72588d3",
   "metadata": {},
   "source": [
    "3.配列scores = [75, 80, 92, 88, 67, 81, 90, 79]の要素を一つずつをfor文を使って出力しましょう。"
   ]
  },
  {
   "cell_type": "code",
   "execution_count": 26,
   "id": "c6ee225f-9de9-464f-ac1c-e360e7796a44",
   "metadata": {},
   "outputs": [
    {
     "name": "stdout",
     "output_type": "stream",
     "text": [
      "75\n",
      "80\n",
      "92\n",
      "88\n",
      "67\n",
      "81\n",
      "90\n",
      "79\n"
     ]
    }
   ],
   "source": [
    "scores = [75, 80, 92, 88, 67, 81, 90, 79]\n",
    "for i in scores:\n",
    "    print(i)"
   ]
  },
  {
   "cell_type": "markdown",
   "id": "349bec5d-6b09-4f04-bb13-f717e8003134",
   "metadata": {},
   "source": [
    "4.scoresの平均点を出力しましょう。"
   ]
  },
  {
   "cell_type": "code",
   "execution_count": 27,
   "id": "7dc5e3dc-37b5-41af-8536-5484b8e1dcf8",
   "metadata": {},
   "outputs": [
    {
     "data": {
      "text/plain": [
       "81.5"
      ]
     },
     "execution_count": 27,
     "metadata": {},
     "output_type": "execute_result"
    }
   ],
   "source": [
    "sum(scores)/len(scores)"
   ]
  },
  {
   "cell_type": "markdown",
   "id": "65b0ccc0-201f-4c5f-89dd-5eadd94f3a52",
   "metadata": {},
   "source": [
    "5.scoresで最も高い点数を出力しましょう。"
   ]
  },
  {
   "cell_type": "code",
   "execution_count": 28,
   "id": "ccd8610f-b22f-4c9c-b893-16cf71e19df6",
   "metadata": {},
   "outputs": [
    {
     "data": {
      "text/plain": [
       "92"
      ]
     },
     "execution_count": 28,
     "metadata": {},
     "output_type": "execute_result"
    }
   ],
   "source": [
    "max(scores)"
   ]
  },
  {
   "cell_type": "markdown",
   "id": "e8eb5283-edd4-417d-9f6a-6c1ce6bb9788",
   "metadata": {},
   "source": [
    "6.namesとscoresの要素を一つずつfor文を使って出力しましょう"
   ]
  },
  {
   "cell_type": "code",
   "execution_count": 29,
   "id": "0d587325-b9c3-4416-ad01-44f847a73ce3",
   "metadata": {},
   "outputs": [
    {
     "name": "stdout",
     "output_type": "stream",
     "text": [
      "Inoue 75\n",
      "Endo 80\n",
      "Kimura 92\n",
      "Sato 88\n",
      "Takahashi 67\n",
      "Nakamura 81\n",
      "Miura 90\n",
      "Yoshida 79\n"
     ]
    }
   ],
   "source": [
    "for i, j in zip(names, scores):\n",
    "    print(i, j)"
   ]
  },
  {
   "cell_type": "markdown",
   "id": "2bc758f4-4f33-4a00-8fcd-1b5c2f46e238",
   "metadata": {},
   "source": [
    "7.habit = \"I love beer. I drink it every night.\"というコードを書き、 strにsakeが含まれているか出力しましょう。"
   ]
  },
  {
   "cell_type": "code",
   "execution_count": 30,
   "id": "7d01d51d-01dd-404b-b0d9-8485206561ad",
   "metadata": {},
   "outputs": [
    {
     "data": {
      "text/plain": [
       "-1"
      ]
     },
     "execution_count": 30,
     "metadata": {},
     "output_type": "execute_result"
    }
   ],
   "source": [
    "habit = \"I love beer. I drink it every night.\"\n",
    "habit.find(\"sake\")"
   ]
  },
  {
   "cell_type": "markdown",
   "id": "5dc86270-020b-4485-aa69-bec5fb3c5d67",
   "metadata": {},
   "source": [
    "8．habitの beer を　wineに置換しましょう。"
   ]
  },
  {
   "cell_type": "code",
   "execution_count": 31,
   "id": "f79818b6-37ff-470e-a7e6-e12747706fe8",
   "metadata": {},
   "outputs": [
    {
     "data": {
      "text/plain": [
       "'I love wine. I drink it every night.'"
      ]
     },
     "execution_count": 31,
     "metadata": {},
     "output_type": "execute_result"
    }
   ],
   "source": [
    "habit.replace('beer', 'wine')"
   ]
  },
  {
   "cell_type": "markdown",
   "id": "46a44aaf-83b9-48cd-96bb-677f8a3662f5",
   "metadata": {},
   "source": [
    "9．num = 123.456789を小数点第二位に四捨五入しましょう。"
   ]
  },
  {
   "cell_type": "code",
   "execution_count": 32,
   "id": "620c41e9-2d6c-447b-835e-8abed7f94390",
   "metadata": {},
   "outputs": [
    {
     "data": {
      "text/plain": [
       "123.46"
      ]
     },
     "execution_count": 32,
     "metadata": {},
     "output_type": "execute_result"
    }
   ],
   "source": [
    "num = 123.456789\n",
    "round(num, 2)"
   ]
  },
  {
   "cell_type": "markdown",
   "id": "ff7de69c-2188-4d9c-b21d-e026132038e3",
   "metadata": {},
   "source": [
    "10．次のコードを実行させて、変数week_hostに辞書型でデータを代入しましょう。week_host = {0:\"伊藤\", 1: \"小林\", 2: \"鈴木\", 3: \"中田\", 4: \"浜田\", 5:\"山本\", 6: \"渡辺\"}"
   ]
  },
  {
   "cell_type": "code",
   "execution_count": 33,
   "id": "b6211384-4955-40cd-91b5-84c2167daf5d",
   "metadata": {},
   "outputs": [],
   "source": [
    "week_host = {0:\"伊藤\", 1: \"小林\", 2: \"鈴木\", 3: \"中田\", 4: \"浜田\", 5:\"山本\", 6: \"渡辺\"}"
   ]
  },
  {
   "cell_type": "markdown",
   "id": "4e3753b0-9445-49d4-8cff-f31828c3748b",
   "metadata": {},
   "source": [
    "11.import datetime のコードを実行しましょう。"
   ]
  },
  {
   "cell_type": "code",
   "execution_count": 34,
   "id": "eae4c1f8-028b-4e65-a1a5-e34044a19574",
   "metadata": {},
   "outputs": [],
   "source": [
    "import datetime"
   ]
  },
  {
   "cell_type": "markdown",
   "id": "b05c103f-a13b-45b3-b22b-2e6417dfcd91",
   "metadata": {},
   "source": [
    "12．本日の曜日をdwに代入し、出力してください。"
   ]
  },
  {
   "cell_type": "code",
   "execution_count": 36,
   "id": "a79ec578-45bd-4682-87b3-3b1a77030be5",
   "metadata": {},
   "outputs": [
    {
     "name": "stdout",
     "output_type": "stream",
     "text": [
      "4\n"
     ]
    }
   ],
   "source": [
    "dw = datetime.date.today().weekday()\n",
    "print(dw)"
   ]
  },
  {
   "cell_type": "markdown",
   "id": "c1e79a99-5b94-4dae-8220-528ca0b58861",
   "metadata": {},
   "source": [
    "13.変数week_hostとdwを使って次の出力結果となるようにコードを書きましょう（formatメソッドを使います）。\n",
    "   本日の司会は●●さんです。"
   ]
  },
  {
   "cell_type": "markdown",
   "id": "bc893a53-5a4e-43a4-8223-9a39a7ddd2ed",
   "metadata": {},
   "source": [
    "13.変数week_hostとdwを使って次の出力結果となるようにコードを書きましょう（formatメソッドを使います）。 \n",
    "   本日の司会は●●さんです"
   ]
  },
  {
   "cell_type": "code",
   "execution_count": 38,
   "id": "45c3feef-160e-46aa-98f0-dcab7b3740b3",
   "metadata": {},
   "outputs": [
    {
     "name": "stdout",
     "output_type": "stream",
     "text": [
      "本日の司会は浜田さんです。\n"
     ]
    }
   ],
   "source": [
    "# 'dw' の値を取得(変数はなんでもOK)\n",
    "today_host = week_host[dw]\n",
    "# 結果の出力\n",
    "print(\"本日の司会は{}さんです。\".format(today_host))"
   ]
  },
  {
   "cell_type": "code",
   "execution_count": null,
   "id": "4d3f2f71-0bf1-4911-b0f6-c6ce5b568c9d",
   "metadata": {},
   "outputs": [],
   "source": []
  }
 ],
 "metadata": {
  "kernelspec": {
   "display_name": "Python 3 (ipykernel)",
   "language": "python",
   "name": "python3"
  },
  "language_info": {
   "codemirror_mode": {
    "name": "ipython",
    "version": 3
   },
   "file_extension": ".py",
   "mimetype": "text/x-python",
   "name": "python",
   "nbconvert_exporter": "python",
   "pygments_lexer": "ipython3",
   "version": "3.9.13"
  }
 },
 "nbformat": 4,
 "nbformat_minor": 5
}
