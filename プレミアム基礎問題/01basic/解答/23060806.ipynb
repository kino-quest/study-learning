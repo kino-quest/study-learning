{
 "cells": [
  {
   "attachments": {},
   "cell_type": "markdown",
   "metadata": {},
   "source": [
    "### ペアプロ 230608 basic 解答編"
   ]
  },
  {
   "cell_type": "code",
   "execution_count": 98,
   "metadata": {},
   "outputs": [],
   "source": [
    "#1\n",
    "tweet = '付加価値はcomunity。付加価値No. 1にするのは参加者自身。会社が行うのは環境整備と営業。ここで学ぶのはprogrammingだけじゃない'\n"
   ]
  },
  {
   "cell_type": "code",
   "execution_count": 99,
   "metadata": {},
   "outputs": [
    {
     "name": "stdout",
     "output_type": "stream",
     "text": [
      "73\n",
      "14\n",
      "付加価値はCOMUNITY。付加価値NO. 1にするのは参加者自身。会社が行うのは環境整備と営業。ここで学ぶのはPROGRAMMINGだけじゃない\n"
     ]
    }
   ],
   "source": [
    "#2\n",
    "print(len(tweet))\n",
    "print(tweet.rfind('付加価値'))\n",
    "print(tweet.upper())"
   ]
  },
  {
   "cell_type": "code",
   "execution_count": 100,
   "metadata": {},
   "outputs": [
    {
     "name": "stdout",
     "output_type": "stream",
     "text": [
      "['付加価値はcomunity', '付加価値No. 1にするのは参加者自身', '会社が行うのは環境整備と営業', 'ここで学ぶのはprogrammingだけじゃない']\n"
     ]
    }
   ],
   "source": [
    "#3\n",
    "tweet_list = tweet.split('。')\n",
    "print(tweet_list)\n"
   ]
  },
  {
   "cell_type": "code",
   "execution_count": 101,
   "metadata": {},
   "outputs": [
    {
     "name": "stdout",
     "output_type": "stream",
     "text": [
      "ここで学ぶのはprogrammingだけじゃない\n"
     ]
    }
   ],
   "source": [
    "#4\n",
    "print(tweet_list[-1])"
   ]
  },
  {
   "cell_type": "code",
   "execution_count": 102,
   "metadata": {},
   "outputs": [
    {
     "name": "stdout",
     "output_type": "stream",
     "text": [
      "付加価値はcomunity\n",
      "付加価値No. 1にするのは参加者自身\n",
      "会社が行うのは環境整備と営業\n",
      "ここで学ぶのはprogrammingだけじゃない\n",
      "学習時間は引き算で作る\n",
      "人に説明できたときが理解できたとき\n",
      "結果は全て自分が決めている\n"
     ]
    }
   ],
   "source": [
    "#5\n",
    "tweet_list += ['学習時間は引き算で作る','人に説明できたときが理解できたとき','結果は全て自分が決めている']\n",
    "for tweet in tweet_list:\n",
    "    print(tweet)"
   ]
  },
  {
   "cell_type": "code",
   "execution_count": 103,
   "metadata": {},
   "outputs": [
    {
     "name": "stdout",
     "output_type": "stream",
     "text": [
      "['学習時間は引き算で作る', '人に説明できたときが理解できたとき', '結果は全て自分が決めている', '付加価値はcomunity', '付加価値No. 1にするのは参加者自身', '会社が行うのは環境整備と営業', 'ここで学ぶのはprogrammingだけじゃない']\n"
     ]
    }
   ],
   "source": [
    "#6\n",
    "for _ in range(4):\n",
    "    tweet_list.append(tweet_list.pop(0))\n",
    "print(tweet_list)"
   ]
  },
  {
   "cell_type": "code",
   "execution_count": 104,
   "metadata": {},
   "outputs": [
    {
     "name": "stdout",
     "output_type": "stream",
     "text": [
      "{0: '学習時間は引き算で作る', 1: '人に説明できたときが理解できたとき', 2: '結果は全て自分が決めている', 3: '付加価値はcomunity', 4: '付加価値No. 1にするのは参加者自身', 5: '会社が行うのは環境整備と営業', 6: 'ここで学ぶのはprogrammingだけじゃない'}\n"
     ]
    }
   ],
   "source": [
    "#7\n",
    "tweet_dict = {}\n",
    "for tweet in tweet_list:\n",
    "    i = tweet_list.index(tweet)\n",
    "    tweet_dict[i] = tweet\n",
    "print(tweet_dict)"
   ]
  },
  {
   "cell_type": "code",
   "execution_count": 105,
   "metadata": {},
   "outputs": [
    {
     "name": "stdout",
     "output_type": "stream",
     "text": [
      "会社が行うのは環境整備と営業\n"
     ]
    }
   ],
   "source": [
    "#8\n",
    "import datetime\n",
    "weekday = datetime.datetime.today().weekday()\n",
    "print(tweet_dict[weekday])"
   ]
  },
  {
   "cell_type": "code",
   "execution_count": 106,
   "metadata": {},
   "outputs": [
    {
     "name": "stdout",
     "output_type": "stream",
     "text": [
      "やり直し！\n",
      "やり直し！\n",
      "素晴らしい!\n"
     ]
    }
   ],
   "source": [
    "#9\n",
    "while True:\n",
    "    if input(tweet_dict[weekday]) == 'yes':\n",
    "        print('素晴らしい!')\n",
    "        break\n",
    "    else:\n",
    "        print('やり直し！')"
   ]
  },
  {
   "cell_type": "code",
   "execution_count": 107,
   "metadata": {},
   "outputs": [
    {
     "name": "stdout",
     "output_type": "stream",
     "text": [
      "やり直し！\n",
      "やり直し！\n",
      "ごめんなさい・・・\n"
     ]
    }
   ],
   "source": [
    "#10\n",
    "while True:\n",
    "    reply = input(tweet_dict[weekday])\n",
    "    if reply == 'yes':\n",
    "        print('素晴らしい!')\n",
    "        break\n",
    "    elif reply == 'いい加減にしなさい':\n",
    "        print('ごめんなさい・・・')\n",
    "        break\n",
    "    else:\n",
    "        print('やり直し！')"
   ]
  }
 ],
 "metadata": {
  "kernelspec": {
   "display_name": "Python 3",
   "language": "python",
   "name": "python3"
  },
  "language_info": {
   "codemirror_mode": {
    "name": "ipython",
    "version": 3
   },
   "file_extension": ".py",
   "mimetype": "text/x-python",
   "name": "python",
   "nbconvert_exporter": "python",
   "pygments_lexer": "ipython3",
   "version": "3.11.2"
  },
  "orig_nbformat": 4
 },
 "nbformat": 4,
 "nbformat_minor": 2
}
